{
 "cells": [
  {
   "cell_type": "code",
   "execution_count": 2,
   "metadata": {},
   "outputs": [],
   "source": [
    "import torch\n",
    "import numpy as np\n",
    "import datasets\n",
    "import pandas as pd\n",
    "import evaluate\n",
    "from torch.utils.data import DataLoader\n",
    "from torch.optim import Adam\n",
    "from torch import nn\n",
    "from tqdm import tqdm\n",
    "from transformers import BertForSequenceClassification\n",
    "from sklearn.utils.class_weight import compute_class_weight\n",
    "from transformers import BertTokenizer, AutoTokenizer, DataCollatorWithPadding"
   ]
  },
  {
   "cell_type": "code",
   "execution_count": null,
   "metadata": {},
   "outputs": [],
   "source": [
    "device = torch.device(\"cuda:0\") if torch.cuda.is_available() else torch.device(\"cpu\")\n",
    "print(\"Device:\", device)"
   ]
  },
  {
   "cell_type": "code",
   "execution_count": 1,
   "metadata": {},
   "outputs": [],
   "source": [
    "train_dataset, val_dataset = datasets.load_dataset(\n",
    "    \"csv\",\n",
    "    data_files=\"../data/train_data.csv\",\n",
    "    split=[datasets.ReadInstruction(\"train\", to=90, unit=\"%\"), datasets.ReadInstruction(\"train\", from_=-10, unit=\"%\")],\n",
    ")\n",
    "train_dataset, val_dataset = train_dataset.rename_column(\"rating\", \"label\"), val_dataset.rename_column(\n",
    "    \"rating\", \"label\"\n",
    ")"
   ]
  },
  {
   "cell_type": "code",
   "execution_count": null,
   "metadata": {},
   "outputs": [],
   "source": [
    "class_weights = compute_class_weight(\n",
    "    class_weight=\"balanced\", classes=np.unique(train_dataset[\"label\"]), y=train_dataset[\"label\"]\n",
    ")\n",
    "class_weights = torch.tensor(np.array(class_weights).astype(\"float32\")).to(device)"
   ]
  },
  {
   "cell_type": "code",
   "execution_count": null,
   "metadata": {},
   "outputs": [],
   "source": [
    "for class_idx, class_weight in zip(np.unique(train_dataset[\"label\"]), class_weights):\n",
    "    print(class_idx, class_weight)"
   ]
  },
  {
   "cell_type": "code",
   "execution_count": null,
   "metadata": {},
   "outputs": [],
   "source": [
    "PRETRAINED_MODEL_NAME = \"bert-base-uncased\"\n",
    "tokenizer = BertTokenizer.from_pretrained(PRETRAINED_MODEL_NAME)\n",
    "\n",
    "\n",
    "def tokenize_function(data):\n",
    "    return tokenizer(data[\"review\"], padding=\"max_length\", truncation=True)\n",
    "\n",
    "\n",
    "tokenized_train = train_dataset.map(tokenize_function, batched=True)\n",
    "tokenized_val = val_dataset.map(tokenize_function, batched=True)\n",
    "\n",
    "tokenized_train.set_format(\"torch\", columns=[\"input_ids\", \"attention_mask\", \"label\"])\n",
    "tokenized_val.set_format(\"torch\", columns=[\"input_ids\", \"attention_mask\", \"label\"])\n",
    "\n",
    "train_loader = DataLoader(tokenized_train, shuffle=True, batch_size=16)\n",
    "val_loader = DataLoader(tokenized_val, batch_size=16)"
   ]
  },
  {
   "cell_type": "code",
   "execution_count": null,
   "metadata": {},
   "outputs": [],
   "source": [
    "model = BertForSequenceClassification.from_pretrained(PRETRAINED_MODEL_NAME, num_labels=5)\n",
    "optimizer = Adam(model.parameters(), lr=5e-5)\n",
    "model.to(device)"
   ]
  },
  {
   "cell_type": "code",
   "execution_count": null,
   "metadata": {},
   "outputs": [],
   "source": [
    "num_epochs = 10\n",
    "loss_fun = nn.CrossEntropyLoss(class_weights)\n",
    "\n",
    "for epoch in range(num_epochs):\n",
    "    losses = []\n",
    "    for batch in tqdm(train_loader):\n",
    "        labels = batch[\"label\"].to(device)\n",
    "        batch = {\"attention_mask\": batch[\"attention_mask\"].to(device), \"input_ids\": batch[\"input_ids\"].to(device)}\n",
    "        outputs = model(**batch)\n",
    "        loss = loss_fun(outputs.logits, labels)\n",
    "        loss.backward()\n",
    "        optimizer.step()\n",
    "        optimizer.zero_grad()\n",
    "        losses.append(loss.item())\n",
    "    print(np.mean(losses))"
   ]
  },
  {
   "cell_type": "code",
   "execution_count": null,
   "metadata": {},
   "outputs": [],
   "source": [
    "metric = evaluate.load(\"accuracy\")\n",
    "model.eval()\n",
    "for batch in val_loader:\n",
    "    labels = batch[\"label\"].to(device)\n",
    "    batch = {\n",
    "        \"attention_mask\": batch[\"attention_mask\"].to(device),\n",
    "        \"input_ids\": batch[\"input_ids\"].to(device),\n",
    "    }  # , \"token_type_ids\":batch['token_type_ids'].to(device)}\n",
    "\n",
    "    with torch.no_grad():\n",
    "        outputs = model(**batch)\n",
    "\n",
    "    logits = outputs.logits\n",
    "    predictions = torch.argmax(logits, dim=-1)\n",
    "    metric.add_batch(predictions=predictions, references=labels)\n",
    "\n",
    "metric.compute()"
   ]
  },
  {
   "cell_type": "code",
   "execution_count": null,
   "metadata": {},
   "outputs": [],
   "source": [
    "torch.save(model.state_dict(), \"\")"
   ]
  }
 ],
 "metadata": {
  "kernelspec": {
   "display_name": "ssne",
   "language": "python",
   "name": "python3"
  },
  "language_info": {
   "codemirror_mode": {
    "name": "ipython",
    "version": 3
   },
   "file_extension": ".py",
   "mimetype": "text/x-python",
   "name": "python",
   "nbconvert_exporter": "python",
   "pygments_lexer": "ipython3",
   "version": "3.10.13"
  }
 },
 "nbformat": 4,
 "nbformat_minor": 2
}
