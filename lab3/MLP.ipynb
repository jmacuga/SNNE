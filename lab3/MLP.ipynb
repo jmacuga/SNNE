{
  "cells": [
    {
      "cell_type": "code",
      "execution_count": 2,
      "metadata": {
        "ExecuteTime": {
          "end_time": "2021-10-19T10:49:53.411272Z",
          "start_time": "2021-10-19T10:49:53.191605Z"
        },
        "id": "R2EVZkYgECjB"
      },
      "outputs": [],
      "source": [
        "import pandas as pd\n",
        "import seaborn as sns"
      ]
    },
    {
      "cell_type": "code",
      "execution_count": 6,
      "metadata": {
        "id": "MrSzGaVRE7BL"
      },
      "outputs": [],
      "source": [
        "df = pd.read_csv('data.csv')\n",
        "df = df.drop([\"dteday\", \"cnt\", \"registered\", \"casual\", \"instant\"], axis=1)"
      ]
    },
    {
      "cell_type": "code",
      "execution_count": 7,
      "metadata": {
        "colab": {
          "base_uri": "https://localhost:8080/",
          "height": 419
        },
        "id": "7-vGrblLFrJb",
        "outputId": "77dcd993-1ce4-4c49-add6-74c132d8a729"
      },
      "outputs": [
        {
          "data": {
            "text/html": [
              "<div>\n",
              "<style scoped>\n",
              "    .dataframe tbody tr th:only-of-type {\n",
              "        vertical-align: middle;\n",
              "    }\n",
              "\n",
              "    .dataframe tbody tr th {\n",
              "        vertical-align: top;\n",
              "    }\n",
              "\n",
              "    .dataframe thead th {\n",
              "        text-align: right;\n",
              "    }\n",
              "</style>\n",
              "<table border=\"1\" class=\"dataframe\">\n",
              "  <thead>\n",
              "    <tr style=\"text-align: right;\">\n",
              "      <th></th>\n",
              "      <th>season</th>\n",
              "      <th>yr</th>\n",
              "      <th>mnth</th>\n",
              "      <th>hr</th>\n",
              "      <th>holiday</th>\n",
              "      <th>weekday</th>\n",
              "      <th>workingday</th>\n",
              "      <th>weathersit</th>\n",
              "      <th>temp</th>\n",
              "      <th>atemp</th>\n",
              "      <th>hum</th>\n",
              "      <th>windspeed</th>\n",
              "    </tr>\n",
              "  </thead>\n",
              "  <tbody>\n",
              "    <tr>\n",
              "      <th>0</th>\n",
              "      <td>1</td>\n",
              "      <td>0</td>\n",
              "      <td>1</td>\n",
              "      <td>0</td>\n",
              "      <td>0</td>\n",
              "      <td>6</td>\n",
              "      <td>0</td>\n",
              "      <td>1</td>\n",
              "      <td>0.24</td>\n",
              "      <td>0.2879</td>\n",
              "      <td>0.81</td>\n",
              "      <td>0.0</td>\n",
              "    </tr>\n",
              "    <tr>\n",
              "      <th>1</th>\n",
              "      <td>1</td>\n",
              "      <td>0</td>\n",
              "      <td>1</td>\n",
              "      <td>1</td>\n",
              "      <td>0</td>\n",
              "      <td>6</td>\n",
              "      <td>0</td>\n",
              "      <td>1</td>\n",
              "      <td>0.22</td>\n",
              "      <td>0.2727</td>\n",
              "      <td>0.80</td>\n",
              "      <td>0.0</td>\n",
              "    </tr>\n",
              "    <tr>\n",
              "      <th>2</th>\n",
              "      <td>1</td>\n",
              "      <td>0</td>\n",
              "      <td>1</td>\n",
              "      <td>2</td>\n",
              "      <td>0</td>\n",
              "      <td>6</td>\n",
              "      <td>0</td>\n",
              "      <td>1</td>\n",
              "      <td>0.22</td>\n",
              "      <td>0.2727</td>\n",
              "      <td>0.80</td>\n",
              "      <td>0.0</td>\n",
              "    </tr>\n",
              "    <tr>\n",
              "      <th>3</th>\n",
              "      <td>1</td>\n",
              "      <td>0</td>\n",
              "      <td>1</td>\n",
              "      <td>3</td>\n",
              "      <td>0</td>\n",
              "      <td>6</td>\n",
              "      <td>0</td>\n",
              "      <td>1</td>\n",
              "      <td>0.24</td>\n",
              "      <td>0.2879</td>\n",
              "      <td>0.75</td>\n",
              "      <td>0.0</td>\n",
              "    </tr>\n",
              "    <tr>\n",
              "      <th>4</th>\n",
              "      <td>1</td>\n",
              "      <td>0</td>\n",
              "      <td>1</td>\n",
              "      <td>4</td>\n",
              "      <td>0</td>\n",
              "      <td>6</td>\n",
              "      <td>0</td>\n",
              "      <td>1</td>\n",
              "      <td>0.24</td>\n",
              "      <td>0.2879</td>\n",
              "      <td>0.75</td>\n",
              "      <td>0.0</td>\n",
              "    </tr>\n",
              "  </tbody>\n",
              "</table>\n",
              "</div>"
            ],
            "text/plain": [
              "   season  yr  mnth  hr  holiday  weekday  workingday  weathersit  temp  \\\n",
              "0       1   0     1   0        0        6           0           1  0.24   \n",
              "1       1   0     1   1        0        6           0           1  0.22   \n",
              "2       1   0     1   2        0        6           0           1  0.22   \n",
              "3       1   0     1   3        0        6           0           1  0.24   \n",
              "4       1   0     1   4        0        6           0           1  0.24   \n",
              "\n",
              "    atemp   hum  windspeed  \n",
              "0  0.2879  0.81        0.0  \n",
              "1  0.2727  0.80        0.0  \n",
              "2  0.2727  0.80        0.0  \n",
              "3  0.2879  0.75        0.0  \n",
              "4  0.2879  0.75        0.0  "
            ]
          },
          "execution_count": 7,
          "metadata": {},
          "output_type": "execute_result"
        }
      ],
      "source": [
        "df.head()"
      ]
    },
    {
      "cell_type": "code",
      "execution_count": 8,
      "metadata": {},
      "outputs": [
        {
          "data": {
            "text/html": [
              "<div>\n",
              "<style scoped>\n",
              "    .dataframe tbody tr th:only-of-type {\n",
              "        vertical-align: middle;\n",
              "    }\n",
              "\n",
              "    .dataframe tbody tr th {\n",
              "        vertical-align: top;\n",
              "    }\n",
              "\n",
              "    .dataframe thead th {\n",
              "        text-align: right;\n",
              "    }\n",
              "</style>\n",
              "<table border=\"1\" class=\"dataframe\">\n",
              "  <thead>\n",
              "    <tr style=\"text-align: right;\">\n",
              "      <th></th>\n",
              "      <th>season</th>\n",
              "      <th>yr</th>\n",
              "      <th>mnth</th>\n",
              "      <th>hr</th>\n",
              "      <th>holiday</th>\n",
              "      <th>weekday</th>\n",
              "      <th>workingday</th>\n",
              "      <th>weathersit</th>\n",
              "      <th>temp</th>\n",
              "      <th>atemp</th>\n",
              "      <th>hum</th>\n",
              "      <th>windspeed</th>\n",
              "    </tr>\n",
              "  </thead>\n",
              "  <tbody>\n",
              "    <tr>\n",
              "      <th>count</th>\n",
              "      <td>10886.000000</td>\n",
              "      <td>10886.000000</td>\n",
              "      <td>10886.000000</td>\n",
              "      <td>10886.000000</td>\n",
              "      <td>10886.000000</td>\n",
              "      <td>10886.000000</td>\n",
              "      <td>10886.000000</td>\n",
              "      <td>10886.000000</td>\n",
              "      <td>10886.000000</td>\n",
              "      <td>10886.000000</td>\n",
              "      <td>10886.000000</td>\n",
              "      <td>10886.000000</td>\n",
              "    </tr>\n",
              "    <tr>\n",
              "      <th>mean</th>\n",
              "      <td>2.506614</td>\n",
              "      <td>0.501929</td>\n",
              "      <td>6.521495</td>\n",
              "      <td>11.541613</td>\n",
              "      <td>0.028569</td>\n",
              "      <td>2.998622</td>\n",
              "      <td>0.680875</td>\n",
              "      <td>1.418427</td>\n",
              "      <td>0.493436</td>\n",
              "      <td>0.473102</td>\n",
              "      <td>0.618865</td>\n",
              "      <td>0.191036</td>\n",
              "    </tr>\n",
              "    <tr>\n",
              "      <th>std</th>\n",
              "      <td>1.116174</td>\n",
              "      <td>0.500019</td>\n",
              "      <td>3.444373</td>\n",
              "      <td>6.915838</td>\n",
              "      <td>0.166599</td>\n",
              "      <td>2.007770</td>\n",
              "      <td>0.466159</td>\n",
              "      <td>0.633839</td>\n",
              "      <td>0.190039</td>\n",
              "      <td>0.169492</td>\n",
              "      <td>0.192450</td>\n",
              "      <td>0.121859</td>\n",
              "    </tr>\n",
              "    <tr>\n",
              "      <th>min</th>\n",
              "      <td>1.000000</td>\n",
              "      <td>0.000000</td>\n",
              "      <td>1.000000</td>\n",
              "      <td>0.000000</td>\n",
              "      <td>0.000000</td>\n",
              "      <td>0.000000</td>\n",
              "      <td>0.000000</td>\n",
              "      <td>1.000000</td>\n",
              "      <td>0.020000</td>\n",
              "      <td>0.015200</td>\n",
              "      <td>0.000000</td>\n",
              "      <td>0.000000</td>\n",
              "    </tr>\n",
              "    <tr>\n",
              "      <th>25%</th>\n",
              "      <td>2.000000</td>\n",
              "      <td>0.000000</td>\n",
              "      <td>4.000000</td>\n",
              "      <td>6.000000</td>\n",
              "      <td>0.000000</td>\n",
              "      <td>1.000000</td>\n",
              "      <td>0.000000</td>\n",
              "      <td>1.000000</td>\n",
              "      <td>0.340000</td>\n",
              "      <td>0.333300</td>\n",
              "      <td>0.470000</td>\n",
              "      <td>0.104500</td>\n",
              "    </tr>\n",
              "    <tr>\n",
              "      <th>50%</th>\n",
              "      <td>3.000000</td>\n",
              "      <td>1.000000</td>\n",
              "      <td>7.000000</td>\n",
              "      <td>12.000000</td>\n",
              "      <td>0.000000</td>\n",
              "      <td>3.000000</td>\n",
              "      <td>1.000000</td>\n",
              "      <td>1.000000</td>\n",
              "      <td>0.500000</td>\n",
              "      <td>0.484800</td>\n",
              "      <td>0.620000</td>\n",
              "      <td>0.194000</td>\n",
              "    </tr>\n",
              "    <tr>\n",
              "      <th>75%</th>\n",
              "      <td>4.000000</td>\n",
              "      <td>1.000000</td>\n",
              "      <td>10.000000</td>\n",
              "      <td>18.000000</td>\n",
              "      <td>0.000000</td>\n",
              "      <td>5.000000</td>\n",
              "      <td>1.000000</td>\n",
              "      <td>2.000000</td>\n",
              "      <td>0.640000</td>\n",
              "      <td>0.621200</td>\n",
              "      <td>0.770000</td>\n",
              "      <td>0.253700</td>\n",
              "    </tr>\n",
              "    <tr>\n",
              "      <th>max</th>\n",
              "      <td>4.000000</td>\n",
              "      <td>1.000000</td>\n",
              "      <td>12.000000</td>\n",
              "      <td>23.000000</td>\n",
              "      <td>1.000000</td>\n",
              "      <td>6.000000</td>\n",
              "      <td>1.000000</td>\n",
              "      <td>4.000000</td>\n",
              "      <td>1.000000</td>\n",
              "      <td>0.909100</td>\n",
              "      <td>1.000000</td>\n",
              "      <td>0.850700</td>\n",
              "    </tr>\n",
              "  </tbody>\n",
              "</table>\n",
              "</div>"
            ],
            "text/plain": [
              "             season            yr          mnth            hr       holiday  \\\n",
              "count  10886.000000  10886.000000  10886.000000  10886.000000  10886.000000   \n",
              "mean       2.506614      0.501929      6.521495     11.541613      0.028569   \n",
              "std        1.116174      0.500019      3.444373      6.915838      0.166599   \n",
              "min        1.000000      0.000000      1.000000      0.000000      0.000000   \n",
              "25%        2.000000      0.000000      4.000000      6.000000      0.000000   \n",
              "50%        3.000000      1.000000      7.000000     12.000000      0.000000   \n",
              "75%        4.000000      1.000000     10.000000     18.000000      0.000000   \n",
              "max        4.000000      1.000000     12.000000     23.000000      1.000000   \n",
              "\n",
              "            weekday    workingday    weathersit          temp         atemp  \\\n",
              "count  10886.000000  10886.000000  10886.000000  10886.000000  10886.000000   \n",
              "mean       2.998622      0.680875      1.418427      0.493436      0.473102   \n",
              "std        2.007770      0.466159      0.633839      0.190039      0.169492   \n",
              "min        0.000000      0.000000      1.000000      0.020000      0.015200   \n",
              "25%        1.000000      0.000000      1.000000      0.340000      0.333300   \n",
              "50%        3.000000      1.000000      1.000000      0.500000      0.484800   \n",
              "75%        5.000000      1.000000      2.000000      0.640000      0.621200   \n",
              "max        6.000000      1.000000      4.000000      1.000000      0.909100   \n",
              "\n",
              "                hum     windspeed  \n",
              "count  10886.000000  10886.000000  \n",
              "mean       0.618865      0.191036  \n",
              "std        0.192450      0.121859  \n",
              "min        0.000000      0.000000  \n",
              "25%        0.470000      0.104500  \n",
              "50%        0.620000      0.194000  \n",
              "75%        0.770000      0.253700  \n",
              "max        1.000000      0.850700  "
            ]
          },
          "execution_count": 8,
          "metadata": {},
          "output_type": "execute_result"
        }
      ],
      "source": [
        "df.describe()"
      ]
    },
    {
      "cell_type": "code",
      "execution_count": 9,
      "metadata": {},
      "outputs": [
        {
          "data": {
            "text/plain": [
              "<Axes: >"
            ]
          },
          "execution_count": 9,
          "metadata": {},
          "output_type": "execute_result"
        },
        {
          "data": {
            "image/png": "[encoded data removed]",
            "text/plain": [
              "<Figure size 640x480 with 2 Axes>"
            ]
          },
          "metadata": {},
          "output_type": "display_data"
        }
      ],
      "source": [
        "sns.heatmap(df.corr(), cmap='RdYlGn')"
      ]
    },
    {
      "cell_type": "code",
      "execution_count": 410,
      "metadata": {
        "id": "xdMQVhSqObDX"
      },
      "outputs": [],
      "source": [
        "import torch.utils.data as data\n",
        "import torch\n",
        "from sklearn.preprocessing import MinMaxScaler\n",
        "from sklearn.model_selection import train_test_split\n"
      ]
    },
    {
      "cell_type": "code",
      "execution_count": 411,
      "metadata": {},
      "outputs": [
        {
          "data": {
            "text/html": [
              "<div>\n",
              "<style scoped>\n",
              "    .dataframe tbody tr th:only-of-type {\n",
              "        vertical-align: middle;\n",
              "    }\n",
              "\n",
              "    .dataframe tbody tr th {\n",
              "        vertical-align: top;\n",
              "    }\n",
              "\n",
              "    .dataframe thead th {\n",
              "        text-align: right;\n",
              "    }\n",
              "</style>\n",
              "<table border=\"1\" class=\"dataframe\">\n",
              "  <thead>\n",
              "    <tr style=\"text-align: right;\">\n",
              "      <th></th>\n",
              "      <th>season</th>\n",
              "      <th>yr</th>\n",
              "      <th>mnth</th>\n",
              "      <th>hr</th>\n",
              "      <th>holiday</th>\n",
              "      <th>weekday</th>\n",
              "      <th>workingday</th>\n",
              "      <th>weathersit</th>\n",
              "      <th>temp</th>\n",
              "      <th>atemp</th>\n",
              "      <th>hum</th>\n",
              "      <th>windspeed</th>\n",
              "    </tr>\n",
              "  </thead>\n",
              "  <tbody>\n",
              "    <tr>\n",
              "      <th>count</th>\n",
              "      <td>10886.000000</td>\n",
              "      <td>10886.000000</td>\n",
              "      <td>10886.000000</td>\n",
              "      <td>10886.000000</td>\n",
              "      <td>10886.000000</td>\n",
              "      <td>10886.000000</td>\n",
              "      <td>10886.000000</td>\n",
              "      <td>10886.000000</td>\n",
              "      <td>10886.000000</td>\n",
              "      <td>10886.000000</td>\n",
              "      <td>10886.000000</td>\n",
              "      <td>10886.000000</td>\n",
              "    </tr>\n",
              "    <tr>\n",
              "      <th>mean</th>\n",
              "      <td>2.506614</td>\n",
              "      <td>0.501929</td>\n",
              "      <td>6.521495</td>\n",
              "      <td>11.541613</td>\n",
              "      <td>0.028569</td>\n",
              "      <td>2.998622</td>\n",
              "      <td>0.680875</td>\n",
              "      <td>1.418427</td>\n",
              "      <td>0.493436</td>\n",
              "      <td>0.473102</td>\n",
              "      <td>0.618865</td>\n",
              "      <td>0.191036</td>\n",
              "    </tr>\n",
              "    <tr>\n",
              "      <th>std</th>\n",
              "      <td>1.116174</td>\n",
              "      <td>0.500019</td>\n",
              "      <td>3.444373</td>\n",
              "      <td>6.915838</td>\n",
              "      <td>0.166599</td>\n",
              "      <td>2.007770</td>\n",
              "      <td>0.466159</td>\n",
              "      <td>0.633839</td>\n",
              "      <td>0.190039</td>\n",
              "      <td>0.169492</td>\n",
              "      <td>0.192450</td>\n",
              "      <td>0.121859</td>\n",
              "    </tr>\n",
              "    <tr>\n",
              "      <th>min</th>\n",
              "      <td>1.000000</td>\n",
              "      <td>0.000000</td>\n",
              "      <td>1.000000</td>\n",
              "      <td>0.000000</td>\n",
              "      <td>0.000000</td>\n",
              "      <td>0.000000</td>\n",
              "      <td>0.000000</td>\n",
              "      <td>1.000000</td>\n",
              "      <td>0.020000</td>\n",
              "      <td>0.015200</td>\n",
              "      <td>0.000000</td>\n",
              "      <td>0.000000</td>\n",
              "    </tr>\n",
              "    <tr>\n",
              "      <th>25%</th>\n",
              "      <td>2.000000</td>\n",
              "      <td>0.000000</td>\n",
              "      <td>4.000000</td>\n",
              "      <td>6.000000</td>\n",
              "      <td>0.000000</td>\n",
              "      <td>1.000000</td>\n",
              "      <td>0.000000</td>\n",
              "      <td>1.000000</td>\n",
              "      <td>0.340000</td>\n",
              "      <td>0.333300</td>\n",
              "      <td>0.470000</td>\n",
              "      <td>0.104500</td>\n",
              "    </tr>\n",
              "    <tr>\n",
              "      <th>50%</th>\n",
              "      <td>3.000000</td>\n",
              "      <td>1.000000</td>\n",
              "      <td>7.000000</td>\n",
              "      <td>12.000000</td>\n",
              "      <td>0.000000</td>\n",
              "      <td>3.000000</td>\n",
              "      <td>1.000000</td>\n",
              "      <td>1.000000</td>\n",
              "      <td>0.500000</td>\n",
              "      <td>0.484800</td>\n",
              "      <td>0.620000</td>\n",
              "      <td>0.194000</td>\n",
              "    </tr>\n",
              "    <tr>\n",
              "      <th>75%</th>\n",
              "      <td>4.000000</td>\n",
              "      <td>1.000000</td>\n",
              "      <td>10.000000</td>\n",
              "      <td>18.000000</td>\n",
              "      <td>0.000000</td>\n",
              "      <td>5.000000</td>\n",
              "      <td>1.000000</td>\n",
              "      <td>2.000000</td>\n",
              "      <td>0.640000</td>\n",
              "      <td>0.621200</td>\n",
              "      <td>0.770000</td>\n",
              "      <td>0.253700</td>\n",
              "    </tr>\n",
              "    <tr>\n",
              "      <th>max</th>\n",
              "      <td>4.000000</td>\n",
              "      <td>1.000000</td>\n",
              "      <td>12.000000</td>\n",
              "      <td>23.000000</td>\n",
              "      <td>1.000000</td>\n",
              "      <td>6.000000</td>\n",
              "      <td>1.000000</td>\n",
              "      <td>4.000000</td>\n",
              "      <td>1.000000</td>\n",
              "      <td>0.909100</td>\n",
              "      <td>1.000000</td>\n",
              "      <td>0.850700</td>\n",
              "    </tr>\n",
              "  </tbody>\n",
              "</table>\n",
              "</div>"
            ],
            "text/plain": [
              "             season            yr          mnth            hr       holiday  \\\n",
              "count  10886.000000  10886.000000  10886.000000  10886.000000  10886.000000   \n",
              "mean       2.506614      0.501929      6.521495     11.541613      0.028569   \n",
              "std        1.116174      0.500019      3.444373      6.915838      0.166599   \n",
              "min        1.000000      0.000000      1.000000      0.000000      0.000000   \n",
              "25%        2.000000      0.000000      4.000000      6.000000      0.000000   \n",
              "50%        3.000000      1.000000      7.000000     12.000000      0.000000   \n",
              "75%        4.000000      1.000000     10.000000     18.000000      0.000000   \n",
              "max        4.000000      1.000000     12.000000     23.000000      1.000000   \n",
              "\n",
              "            weekday    workingday    weathersit          temp         atemp  \\\n",
              "count  10886.000000  10886.000000  10886.000000  10886.000000  10886.000000   \n",
              "mean       2.998622      0.680875      1.418427      0.493436      0.473102   \n",
              "std        2.007770      0.466159      0.633839      0.190039      0.169492   \n",
              "min        0.000000      0.000000      1.000000      0.020000      0.015200   \n",
              "25%        1.000000      0.000000      1.000000      0.340000      0.333300   \n",
              "50%        3.000000      1.000000      1.000000      0.500000      0.484800   \n",
              "75%        5.000000      1.000000      2.000000      0.640000      0.621200   \n",
              "max        6.000000      1.000000      4.000000      1.000000      0.909100   \n",
              "\n",
              "                hum     windspeed  \n",
              "count  10886.000000  10886.000000  \n",
              "mean       0.618865      0.191036  \n",
              "std        0.192450      0.121859  \n",
              "min        0.000000      0.000000  \n",
              "25%        0.470000      0.104500  \n",
              "50%        0.620000      0.194000  \n",
              "75%        0.770000      0.253700  \n",
              "max        1.000000      0.850700  "
            ]
          },
          "execution_count": 411,
          "metadata": {},
          "output_type": "execute_result"
        }
      ],
      "source": [
        "scaler = MinMaxScaler()\n",
        "scaled_data = pd.DataFrame(df, columns=df.columns)\n",
        "scaled_data.describe()"
      ]
    },
    {
      "cell_type": "code",
      "execution_count": 412,
      "metadata": {
        "id": "Lp0Bx2fbKeMn"
      },
      "outputs": [],
      "source": [
        "class OneLegDataset(data.Dataset):\n",
        "    def __init__(self, scaler, path):\n",
        "        super().__init__()\n",
        "        df = pd.read_csv(path)\n",
        "        self.data = torch.tensor(self.prepare_data(df, scaler).values, dtype=torch.float32)\n",
        "        self.label = torch.tensor(df.iloc[:,-1], dtype= torch.int32)\n",
        "        self.size = self.data.shape[0]\n",
        "\n",
        "    def __len__(self):\n",
        "        return self.size\n",
        "\n",
        "    def __getitem__(self, idx):\n",
        "        data_point = self.data[idx]\n",
        "        data_label = self.label[idx]\n",
        "        return data_point, data_label\n",
        "\n",
        "    def prepare_data(self, df, scaler):\n",
        "        cleaned_data = df.drop([\"dteday\", \"cnt\", \"registered\", \"casual\", \"instant\", \"season\", \"workingday\"], axis=1)\n",
        "        scaled_data = pd.DataFrame(scaler.fit_transform(cleaned_data), columns=cleaned_data.columns)\n",
        "        return scaled_data\n"
      ]
    },
    {
      "cell_type": "code",
      "execution_count": 413,
      "metadata": {},
      "outputs": [
        {
          "data": {
            "text/plain": [
              "10886"
            ]
          },
          "execution_count": 413,
          "metadata": {},
          "output_type": "execute_result"
        }
      ],
      "source": [
        "scaler = MinMaxScaler()\n",
        "dataset = OneLegDataset(scaler, \"data.csv\")\n",
        "len(dataset)"
      ]
    },
    {
      "cell_type": "code",
      "execution_count": 414,
      "metadata": {},
      "outputs": [],
      "source": [
        "batch_size = 64\n",
        "\n",
        "X_train, X_test, y_train, y_test = train_test_split(dataset.data, dataset.label, test_size=0.2, random_state=42)\n",
        "\n",
        "train_data = data.TensorDataset(X_train, y_train)\n",
        "validation_data = data.TensorDataset(X_test, y_test)\n",
        "\n",
        "train_loader = data.DataLoader(train_data, batch_size=batch_size, drop_last=True)\n",
        "validation_loader = data.DataLoader(validation_data, batch_size=batch_size)\n"
      ]
    },
    {
      "cell_type": "code",
      "execution_count": 415,
      "metadata": {},
      "outputs": [
        {
          "name": "stdout",
          "output_type": "stream",
          "text": [
            "(tensor([[0.0000, 0.5455, 0.2174,  ..., 0.6949, 0.8300, 0.1053],\n",
            "        [1.0000, 0.6364, 0.6957,  ..., 0.8983, 0.3900, 0.3509],\n",
            "        [1.0000, 0.5455, 0.6522,  ..., 0.7796, 0.4100, 0.2982],\n",
            "        ...,\n",
            "        [0.0000, 1.0000, 0.6957,  ..., 0.2881, 0.4800, 0.2982],\n",
            "        [0.0000, 0.0909, 0.3043,  ..., 0.4236, 0.1700, 0.6141],\n",
            "        [1.0000, 0.3636, 0.3043,  ..., 0.5593, 0.8800, 0.2280]]), tensor([ 35, 450, 276,  ..., 234,  22, 358], dtype=torch.int32))\n",
            "tensor([ 35, 450, 276,  ..., 234,  22, 358], dtype=torch.int32)\n"
          ]
        }
      ],
      "source": [
        "print(train_data.tensors)\n",
        "print(y_train)"
      ]
    },
    {
      "cell_type": "code",
      "execution_count": 416,
      "metadata": {},
      "outputs": [
        {
          "data": {
            "text/plain": [
              "[tensor([[0.0000, 0.5455, 0.2174, 0.0000, 0.5000, 0.0000, 0.6735, 0.6949, 0.8300,\n",
              "          0.1053],\n",
              "         [1.0000, 0.6364, 0.6957, 0.0000, 1.0000, 0.0000, 0.8980, 0.8983, 0.3900,\n",
              "          0.3509],\n",
              "         [1.0000, 0.5455, 0.6522, 0.0000, 0.5000, 0.0000, 0.7959, 0.7796, 0.4100,\n",
              "          0.2982],\n",
              "         [0.0000, 0.2727, 0.1739, 0.0000, 0.0000, 0.3333, 0.3469, 0.3898, 0.9300,\n",
              "          0.1228],\n",
              "         [0.0000, 0.9091, 0.4348, 0.0000, 1.0000, 0.0000, 0.3061, 0.3220, 0.4500,\n",
              "          0.2982],\n",
              "         [1.0000, 0.0909, 0.8261, 0.0000, 0.1667, 0.0000, 0.3265, 0.3559, 0.2500,\n",
              "          0.1579],\n",
              "         [0.0000, 1.0000, 0.8696, 0.0000, 0.5000, 0.6667, 0.3265, 0.3051, 0.8700,\n",
              "          0.7544],\n",
              "         [1.0000, 0.5455, 0.5217, 1.0000, 0.5000, 0.0000, 0.8571, 0.8644, 0.4100,\n",
              "          0.2632],\n",
              "         [1.0000, 0.8182, 0.9565, 0.0000, 0.3333, 0.3333, 0.6122, 0.5932, 0.9400,\n",
              "          0.1228],\n",
              "         [1.0000, 0.5455, 0.1739, 0.0000, 0.3333, 0.0000, 0.7143, 0.7457, 0.6200,\n",
              "          0.0000],\n",
              "         [0.0000, 0.0909, 0.3043, 0.0000, 0.3333, 0.0000, 0.2245, 0.2034, 0.6500,\n",
              "          0.4912],\n",
              "         [1.0000, 0.6364, 0.5652, 0.0000, 0.6667, 0.0000, 0.7959, 0.7627, 0.3100,\n",
              "          0.2632],\n",
              "         [1.0000, 0.0909, 0.5652, 0.0000, 0.5000, 0.0000, 0.3878, 0.4407, 0.4300,\n",
              "          0.3334],\n",
              "         [0.0000, 0.0000, 0.9130, 1.0000, 0.1667, 0.6667, 0.1429, 0.1525, 0.8000,\n",
              "          0.2280],\n",
              "         [1.0000, 0.8182, 0.7826, 0.0000, 0.8333, 0.0000, 0.5510, 0.5762, 0.8300,\n",
              "          0.1228],\n",
              "         [1.0000, 0.6364, 0.6957, 0.0000, 1.0000, 0.0000, 0.7959, 0.7966, 0.4600,\n",
              "          0.3509],\n",
              "         [1.0000, 0.1818, 0.8261, 0.0000, 0.6667, 0.3333, 0.5918, 0.6779, 0.4000,\n",
              "          0.5264],\n",
              "         [0.0000, 0.9091, 0.6957, 0.0000, 0.3333, 0.0000, 0.5510, 0.5762, 0.4600,\n",
              "          0.1579],\n",
              "         [1.0000, 0.0909, 0.4348, 0.0000, 0.8333, 0.3333, 0.2449, 0.2881, 0.4800,\n",
              "          0.1579],\n",
              "         [0.0000, 0.4545, 0.4783, 0.0000, 1.0000, 0.0000, 0.6531, 0.6779, 0.3600,\n",
              "          0.1579],\n",
              "         [1.0000, 0.3636, 0.4348, 0.0000, 0.5000, 0.3333, 0.5714, 0.5932, 0.8300,\n",
              "          0.1228],\n",
              "         [1.0000, 0.5455, 0.7391, 0.0000, 0.3333, 0.0000, 0.7755, 0.7796, 0.4900,\n",
              "          0.2280],\n",
              "         [0.0000, 0.6364, 0.4783, 0.0000, 0.6667, 0.0000, 0.7551, 0.7288, 0.3500,\n",
              "          0.2982],\n",
              "         [0.0000, 0.5455, 0.5217, 0.0000, 0.6667, 0.0000, 0.8367, 0.8474, 0.4100,\n",
              "          0.0000],\n",
              "         [1.0000, 0.2727, 0.2174, 0.0000, 0.0000, 0.3333, 0.3265, 0.3729, 0.8100,\n",
              "          0.1053],\n",
              "         [1.0000, 0.4545, 1.0000, 0.0000, 1.0000, 0.0000, 0.6735, 0.6949, 0.6100,\n",
              "          0.1930],\n",
              "         [1.0000, 0.2727, 0.4348, 0.0000, 0.8333, 0.0000, 0.3469, 0.3559, 0.4000,\n",
              "          0.3860],\n",
              "         [0.0000, 0.6364, 0.7826, 0.0000, 0.6667, 0.0000, 0.7755, 0.7457, 0.2900,\n",
              "          0.1053],\n",
              "         [0.0000, 0.4545, 0.3913, 0.0000, 1.0000, 0.0000, 0.7347, 0.7457, 0.6200,\n",
              "          0.1579],\n",
              "         [0.0000, 0.0000, 0.7391, 0.0000, 0.3333, 0.3333, 0.2041, 0.2373, 0.8200,\n",
              "          0.2280],\n",
              "         [1.0000, 0.5455, 0.9130, 0.0000, 0.8333, 0.0000, 0.8163, 0.8474, 0.5200,\n",
              "          0.1579],\n",
              "         [0.0000, 0.2727, 0.9130, 0.0000, 0.5000, 0.0000, 0.4082, 0.4575, 0.6700,\n",
              "          0.1930],\n",
              "         [0.0000, 0.9091, 0.3043, 0.0000, 0.5000, 0.6667, 0.4490, 0.4914, 0.9400,\n",
              "          0.0000],\n",
              "         [1.0000, 0.1818, 0.1304, 0.0000, 0.1667, 0.0000, 0.2041, 0.2373, 0.5100,\n",
              "          0.1930],\n",
              "         [1.0000, 0.9091, 0.7826, 0.0000, 0.8333, 0.0000, 0.4082, 0.4575, 0.4400,\n",
              "          0.1228],\n",
              "         [0.0000, 0.8182, 0.2609, 0.0000, 0.0000, 0.0000, 0.3673, 0.4236, 0.6600,\n",
              "          0.1930],\n",
              "         [1.0000, 0.7273, 0.7391, 0.0000, 0.1667, 0.3333, 0.6327, 0.6610, 0.6500,\n",
              "          0.2632],\n",
              "         [1.0000, 0.4545, 0.2609, 0.0000, 0.0000, 0.0000, 0.4490, 0.4914, 0.8200,\n",
              "          0.1228],\n",
              "         [0.0000, 0.6364, 0.5217, 0.0000, 0.6667, 0.0000, 0.7959, 0.8135, 0.5200,\n",
              "          0.3334],\n",
              "         [1.0000, 0.1818, 0.2609, 0.0000, 0.3333, 0.6667, 0.4490, 0.4914, 0.8200,\n",
              "          0.2280],\n",
              "         [1.0000, 0.7273, 0.7391, 0.0000, 0.0000, 0.0000, 0.6531, 0.6779, 0.4100,\n",
              "          0.0000],\n",
              "         [1.0000, 1.0000, 0.5652, 0.0000, 0.1667, 0.0000, 0.5714, 0.5932, 0.5600,\n",
              "          0.1053],\n",
              "         [1.0000, 0.0000, 0.5217, 1.0000, 0.1667, 0.0000, 0.1837, 0.1864, 0.5500,\n",
              "          0.3860],\n",
              "         [0.0000, 0.7273, 0.8261, 0.0000, 0.0000, 0.0000, 0.6327, 0.6610, 0.6900,\n",
              "          0.1228],\n",
              "         [0.0000, 0.3636, 0.0435, 0.0000, 0.8333, 0.0000, 0.5102, 0.5423, 0.8300,\n",
              "          0.1930],\n",
              "         [0.0000, 0.8182, 0.8696, 0.0000, 0.1667, 0.6667, 0.3878, 0.4407, 0.8200,\n",
              "          0.0000],\n",
              "         [0.0000, 0.2727, 0.5652, 0.0000, 0.3333, 0.6667, 0.5306, 0.5593, 0.6800,\n",
              "          0.3334],\n",
              "         [1.0000, 0.9091, 0.5217, 1.0000, 0.1667, 0.0000, 0.5510, 0.5762, 0.6400,\n",
              "          0.2632],\n",
              "         [0.0000, 0.2727, 0.6087, 0.0000, 0.0000, 0.0000, 0.4490, 0.4914, 0.3100,\n",
              "          0.1579],\n",
              "         [1.0000, 0.5455, 0.3043, 0.0000, 0.0000, 0.0000, 0.7959, 0.8813, 0.6600,\n",
              "          0.0000],\n",
              "         [0.0000, 1.0000, 0.6522, 0.0000, 0.1667, 0.3333, 0.3061, 0.3559, 0.5700,\n",
              "          0.1228],\n",
              "         [0.0000, 0.2727, 0.4348, 0.0000, 0.1667, 0.3333, 0.5306, 0.5593, 0.4500,\n",
              "          0.4211],\n",
              "         [0.0000, 0.0909, 0.1739, 0.0000, 0.6667, 0.0000, 0.3061, 0.3390, 0.5700,\n",
              "          0.2280],\n",
              "         [0.0000, 0.3636, 0.4783, 0.0000, 0.5000, 0.0000, 0.5510, 0.5762, 0.6400,\n",
              "          0.1053],\n",
              "         [0.0000, 0.6364, 0.9130, 0.0000, 1.0000, 0.3333, 0.6735, 0.6949, 0.8300,\n",
              "          0.4562],\n",
              "         [0.0000, 0.5455, 0.0435, 0.0000, 0.8333, 0.0000, 0.6122, 0.6440, 0.7300,\n",
              "          0.2280],\n",
              "         [1.0000, 1.0000, 0.6087, 0.0000, 1.0000, 0.0000, 0.3878, 0.4407, 0.5000,\n",
              "          0.1930],\n",
              "         [1.0000, 0.5455, 0.8261, 0.0000, 0.0000, 0.0000, 0.7143, 0.7796, 0.8400,\n",
              "          0.2632],\n",
              "         [0.0000, 0.2727, 0.8696, 0.0000, 1.0000, 0.6667, 0.4286, 0.4745, 0.9400,\n",
              "          0.2632],\n",
              "         [0.0000, 0.6364, 0.7826, 0.0000, 1.0000, 0.3333, 0.7143, 0.7627, 0.7900,\n",
              "          0.5264],\n",
              "         [1.0000, 0.2727, 0.6522, 0.0000, 0.8333, 0.0000, 0.5306, 0.5593, 0.2800,\n",
              "          0.2982],\n",
              "         [0.0000, 0.4545, 0.0000, 0.0000, 0.0000, 0.0000, 0.6531, 0.6610, 0.7800,\n",
              "          0.2632],\n",
              "         [0.0000, 0.8182, 0.1304, 0.0000, 1.0000, 0.0000, 0.4490, 0.4914, 0.5900,\n",
              "          0.4912],\n",
              "         [0.0000, 0.6364, 0.0870, 0.0000, 0.1667, 0.0000, 0.6531, 0.6440, 0.8900,\n",
              "          0.0000]]),\n",
              " tensor([ 35, 450, 276,   5, 200, 263,  26, 494, 240,   7, 100, 300, 170,  27,\n",
              "         233, 531, 416, 289, 124, 369, 175, 872, 187, 171,  18, 230, 238, 571,\n",
              "         230, 125, 300, 117, 137,   1, 496,  10, 842,  22, 173, 113, 570, 321,\n",
              "         185, 333,  20, 204, 106, 419, 349,  52, 132,  90,   4, 141, 167,  20,\n",
              "         426, 312,  53, 211, 352, 119,  25,   7], dtype=torch.int32)]"
            ]
          },
          "execution_count": 416,
          "metadata": {},
          "output_type": "execute_result"
        }
      ],
      "source": [
        "next(iter(train_loader))"
      ]
    },
    {
      "cell_type": "code",
      "execution_count": 417,
      "metadata": {
        "id": "wy5Vo4qgH5qR"
      },
      "outputs": [],
      "source": [
        "import torch.nn as nn"
      ]
    },
    {
      "cell_type": "code",
      "execution_count": 418,
      "metadata": {
        "id": "4oqfH-LkIr3D"
      },
      "outputs": [],
      "source": [
        "\n",
        "class OneLegRegression(nn.Module):\n",
        "  def __init__(self, num_inputs, num_outputs):\n",
        "    super().__init__()\n",
        "    self.linear1 = nn.Linear(num_inputs, 24)\n",
        "    self.bn1 = nn.BatchNorm1d(24, momentum=0.1)\n",
        "    self.relu = nn.ReLU()\n",
        "    self.linear2 = nn.Linear(24, 64)\n",
        "    self.bn2 =  nn.BatchNorm1d(64, momentum=0.1)\n",
        "    self.linear7 = nn.Linear(64, 24)\n",
        "    self.bn3 = nn.BatchNorm1d(24, momentum=0.1)\n",
        "    self.linear8= nn.Linear(24, num_outputs)\n",
        "\n",
        "  def forward(self, x):\n",
        "    x = self.linear1(x)\n",
        "    x = self.relu(x)\n",
        "    x = self.bn1(x)\n",
        "    \n",
        "    x = self.linear2(x)\n",
        "    x = self.relu(x)\n",
        "    x = self.bn2(x)\n",
        "  \n",
        "    x = self.linear7(x)\n",
        "    x = self.relu(x)\n",
        "    x = self.bn3(x)\n",
        "\n",
        "    x = self.linear8(x)\n",
        "    return x\n",
        "\n"
      ]
    },
    {
      "cell_type": "code",
      "execution_count": 419,
      "metadata": {
        "colab": {
          "base_uri": "https://localhost:8080/"
        },
        "id": "Ikw41I75P8Qk",
        "outputId": "f4bf940a-254f-40ac-b0fc-277dfeca0845"
      },
      "outputs": [
        {
          "data": {
            "text/plain": [
              "10"
            ]
          },
          "execution_count": 419,
          "metadata": {},
          "output_type": "execute_result"
        }
      ],
      "source": [
        "dataset.data.shape[1]"
      ]
    },
    {
      "cell_type": "code",
      "execution_count": 420,
      "metadata": {},
      "outputs": [],
      "source": [
        "import numpy as np"
      ]
    },
    {
      "cell_type": "code",
      "execution_count": 421,
      "metadata": {},
      "outputs": [],
      "source": [
        "# def rmsle(y_true,y_pred):\n",
        "#     n = len(y_true)\n",
        "#     msle = np.mean([(np.log(max(y_pred[i],0) + 1) - np.log(y_true[i] + 1)) ** 2.0 for i in range(n)])\n",
        "#     return np.sqrt(msle)"
      ]
    },
    {
      "cell_type": "code",
      "execution_count": 422,
      "metadata": {
        "id": "zCBcXrvUNavg"
      },
      "outputs": [],
      "source": [
        "model = OneLegRegression(num_inputs=dataset.data.shape[1], num_outputs=1)\n",
        "\n",
        "optimizer = torch.optim.Adam(model.parameters(), lr=0.1)\n",
        "loss_module = nn.MSELoss()\n",
        "# loss_function = rmsle\n"
      ]
    },
    {
      "cell_type": "code",
      "execution_count": 423,
      "metadata": {},
      "outputs": [
        {
          "name": "stdout",
          "output_type": "stream",
          "text": [
            "OneLegRegression(\n",
            "  (linear1): Linear(in_features=10, out_features=24, bias=True)\n",
            "  (bn1): BatchNorm1d(24, eps=1e-05, momentum=0.1, affine=True, track_running_stats=True)\n",
            "  (relu): ReLU()\n",
            "  (linear2): Linear(in_features=24, out_features=64, bias=True)\n",
            "  (bn2): BatchNorm1d(64, eps=1e-05, momentum=0.1, affine=True, track_running_stats=True)\n",
            "  (linear7): Linear(in_features=64, out_features=24, bias=True)\n",
            "  (bn3): BatchNorm1d(24, eps=1e-05, momentum=0.1, affine=True, track_running_stats=True)\n",
            "  (linear8): Linear(in_features=24, out_features=1, bias=True)\n",
            ")\n"
          ]
        }
      ],
      "source": [
        "print(model)"
      ]
    },
    {
      "cell_type": "code",
      "execution_count": 424,
      "metadata": {},
      "outputs": [
        {
          "data": {
            "text/plain": [
              "2178"
            ]
          },
          "execution_count": 424,
          "metadata": {},
          "output_type": "execute_result"
        }
      ],
      "source": [
        "len(validation_loader.dataset)"
      ]
    },
    {
      "cell_type": "code",
      "execution_count": 425,
      "metadata": {
        "colab": {
          "base_uri": "https://localhost:8080/"
        },
        "id": "gb57vCIVN4Si",
        "outputId": "540cb7cf-7d2d-4ed2-e0bb-a7297eefb479"
      },
      "outputs": [
        {
          "name": "stderr",
          "output_type": "stream",
          "text": [
            "/home/user/.local/lib/python3.10/site-packages/torch/nn/modules/loss.py:535: UserWarning: Using a target size (torch.Size([64])) that is different to the input size (torch.Size([64, 1])). This will likely lead to incorrect results due to broadcasting. Please ensure they have the same size.\n",
            "  return F.mse_loss(input, target, reduction=self.reduction)\n",
            "/home/user/.local/lib/python3.10/site-packages/torch/nn/modules/loss.py:535: UserWarning: Using a target size (torch.Size([2])) that is different to the input size (torch.Size([2, 1])). This will likely lead to incorrect results due to broadcasting. Please ensure they have the same size.\n",
            "  return F.mse_loss(input, target, reduction=self.reduction)\n"
          ]
        },
        {
          "name": "stdout",
          "output_type": "stream",
          "text": [
            "Epoch 0, Train loss: 327.196, 759.738\n",
            "Epoch 1, Train loss: 213.154, 747.001\n",
            "Epoch 2, Train loss: 203.862, 730.672\n",
            "Epoch 3, Train loss: 192.213, 774.891\n",
            "Epoch 4, Train loss: 181.755, 755.389\n",
            "Epoch 5, Train loss: 167.788, 741.629\n",
            "Epoch 6, Train loss: 185.321, 755.532\n",
            "Epoch 7, Train loss: 177.703, 746.446\n",
            "Epoch 8, Train loss: 150.158, 765.769\n",
            "Epoch 9, Train loss: 147.969, 776.307\n",
            "Epoch 10, Train loss: 140.167, 754.202\n",
            "Epoch 11, Train loss: 136.770, 762.645\n",
            "Epoch 12, Train loss: 133.574, 846.952\n",
            "Epoch 13, Train loss: 130.561, 792.123\n",
            "Epoch 14, Train loss: 127.758, 797.464\n",
            "Epoch 15, Train loss: 126.897, 796.482\n",
            "Epoch 16, Train loss: 123.261, 824.363\n",
            "Epoch 17, Train loss: 119.207, 818.118\n",
            "Epoch 18, Train loss: 114.617, 811.012\n",
            "Epoch 19, Train loss: 113.409, 833.386\n",
            "Epoch 20, Train loss: 112.593, 829.497\n",
            "Epoch 21, Train loss: 105.934, 857.214\n",
            "Epoch 22, Train loss: 102.764, 828.009\n",
            "Epoch 23, Train loss: 99.779, 839.992\n",
            "Epoch 24, Train loss: 98.280, 860.751\n"
          ]
        }
      ],
      "source": [
        "train_losses, val_losses = [], []\n",
        "batch_count = len(train_loader)\n",
        "\n",
        "for epoch in range(50):\n",
        "    train_batch_loss_sum, val_batch_loss_sum = 0, 0\n",
        "    \n",
        "    model.train()\n",
        "    for train_inputs, train_labels in train_loader:\n",
        "        preds = model(train_inputs)\n",
        "        preds = preds.squeeze(dim=1)\n",
        "        \n",
        "        loss = loss_module(preds, train_labels.float())\n",
        "        \n",
        "        optimizer.zero_grad()\n",
        "        loss.backward()\n",
        "        optimizer.step()\n",
        "        \n",
        "        train_batch_loss_sum += loss.item()\n",
        "    \n",
        "    model.eval()\n",
        "    for val_inputs, val_labels in validation_loader:\n",
        "        val_preds = model(val_inputs)\n",
        "        val_preds = val_preds.squeeze(dim=1)\n",
        "        \n",
        "        val_loss = loss_module(val_preds, val_labels.float())\n",
        "        val_batch_loss_sum += val_loss.item()\n",
        "        \n",
        "        # with torch.no_grad():\n",
        "        #     val_preds = pd.DataFrame(val_preds.squeeze(dim=1))\n",
        "        #     val_labels = pd.DataFrame(val_labels)\n",
        "        #     test_loss = loss_function(val_labels.astype(float).values, val_preds.values)\n",
        "        \n",
        "    train_batch_loss = train_batch_loss_sum / (len(train_loader.dataset))\n",
        "    val_batch_loss = val_batch_loss_sum / (len(validation_loader.dataset))\n",
        "    train_losses.append(train_batch_loss)\n",
        "    val_losses.append(val_batch_loss)\n",
        "\n",
        "    print(f\"Epoch {epoch}, Train loss: {train_batch_loss:.3f}, {val_batch_loss:.3f}\")\n",
        "\n"
      ]
    },
    {
      "cell_type": "code",
      "execution_count": 385,
      "metadata": {
        "id": "aZRMJRSBRLIx"
      },
      "outputs": [
        {
          "data": {
            "text/plain": [
              "<matplotlib.legend.Legend at 0x7fe339d69ed0>"
            ]
          },
          "execution_count": 385,
          "metadata": {},
          "output_type": "execute_result"
        },
        {
          "data": {
            "image/png": "[encoded data removed]",
            "text/plain": [
              "<Figure size 640x480 with 1 Axes>"
            ]
          },
          "metadata": {},
          "output_type": "display_data"
        }
      ],
      "source": [
        "import matplotlib.pyplot as plt\n",
        "\n",
        "plt.plot(train_losses, label=\"Train\")\n",
        "plt.plot(val_losses, label=\"Validation\")\n",
        "plt.legend([\"Train\", \"Validation\"])\n",
        "\n"
      ]
    },
    {
      "cell_type": "code",
      "execution_count": 324,
      "metadata": {},
      "outputs": [
        {
          "name": "stdout",
          "output_type": "stream",
          "text": [
            "tensor([ 4.5876e+01,  3.7144e+02, -6.2273e+00,  1.5254e+02,  4.7046e+00,\n",
            "         2.7063e+02,  6.8476e+01,  5.8140e+01,  1.5702e+02,  8.6917e+00,\n",
            "         2.0676e+02,  1.7028e+02,  2.1276e+02,  2.0731e+01,  2.5970e+02,\n",
            "         3.1300e+01,  1.4005e+02,  3.5845e+02,  3.4010e+02,  4.1574e+02,\n",
            "         2.8302e+02,  7.0453e+02,  3.7848e+02,  6.3739e+01,  6.5471e+02,\n",
            "         1.6214e+01,  1.4150e+02,  3.1130e+02, -3.5907e+00,  1.4991e+01,\n",
            "         1.5870e+02,  7.3249e+01,  5.1683e+02,  3.9470e+01, -4.5761e-01,\n",
            "         7.8046e-01,  2.0945e+02, -5.6179e-01,  1.0377e+02,  3.6546e+02,\n",
            "         2.5443e+02,  4.1764e+01,  1.9139e+02,  1.1281e+02,  3.4412e+02,\n",
            "         1.7377e+02,  3.5123e+02,  1.3069e+02,  1.2407e+02,  1.6397e+01,\n",
            "         1.7353e+02,  2.8431e+02,  8.4448e+01,  3.2562e+02,  1.9791e+02,\n",
            "         1.4606e+02,  3.2348e+01,  1.3804e+01,  5.1024e+01,  3.8685e+02,\n",
            "         3.6916e+02,  1.0901e+01,  2.8946e+02,  4.9351e+01],\n",
            "       grad_fn=<SqueezeBackward1>)\n"
          ]
        }
      ],
      "source": [
        "print(preds)"
      ]
    },
    {
      "cell_type": "code",
      "execution_count": 327,
      "metadata": {},
      "outputs": [],
      "source": []
    },
    {
      "cell_type": "code",
      "execution_count": 334,
      "metadata": {},
      "outputs": [],
      "source": []
    },
    {
      "cell_type": "code",
      "execution_count": 329,
      "metadata": {},
      "outputs": [],
      "source": [
        "import numpy as np"
      ]
    },
    {
      "cell_type": "code",
      "execution_count": 330,
      "metadata": {},
      "outputs": [],
      "source": [
        "def rmsle(y_true,y_pred):\n",
        "    n = len(y_true)\n",
        "    msle = np.mean([(np.log(max(y_pred[i],0) + 1) - np.log(y_true[i] + 1)) ** 2.0 for i in range(n)])\n",
        "    return np.sqrt(msle)"
      ]
    },
    {
      "cell_type": "code",
      "execution_count": 338,
      "metadata": {},
      "outputs": [
        {
          "name": "stdout",
          "output_type": "stream",
          "text": [
            "             0\n",
            "0    45.875523\n",
            "1   371.439697\n",
            "2    -6.227293\n",
            "3   152.543930\n",
            "4     4.704621\n",
            "..         ...\n",
            "59  386.851501\n",
            "60  369.156708\n",
            "61   10.900852\n",
            "62  289.457245\n",
            "63   49.351166\n",
            "\n",
            "[64 rows x 1 columns]\n",
            "          0\n",
            "0     127.0\n",
            "1      13.0\n",
            "2     163.0\n",
            "3     233.0\n",
            "4     222.0\n",
            "...     ...\n",
            "2173  351.0\n",
            "2174    2.0\n",
            "2175  509.0\n",
            "2176    5.0\n",
            "2177  239.0\n",
            "\n",
            "[2178 rows x 1 columns]\n"
          ]
        },
        {
          "ename": "IndexError",
          "evalue": "index 64 is out of bounds for axis 0 with size 64",
          "output_type": "error",
          "traceback": [
            "\u001b[0;31m---------------------------------------------------------------------------\u001b[0m",
            "\u001b[0;31mIndexError\u001b[0m                                Traceback (most recent call last)",
            "Cell \u001b[0;32mIn[338], line 6\u001b[0m\n\u001b[1;32m      4\u001b[0m targets \u001b[38;5;241m=\u001b[39m pd\u001b[38;5;241m.\u001b[39mDataFrame(y_test\u001b[38;5;241m.\u001b[39mfloat())\n\u001b[1;32m      5\u001b[0m \u001b[38;5;28mprint\u001b[39m(targets)\n\u001b[0;32m----> 6\u001b[0m \u001b[43mrmsle\u001b[49m\u001b[43m(\u001b[49m\u001b[43mtargets\u001b[49m\u001b[38;5;241;43m.\u001b[39;49m\u001b[43mvalues\u001b[49m\u001b[43m,\u001b[49m\u001b[43mpreds\u001b[49m\u001b[38;5;241;43m.\u001b[39;49m\u001b[43mvalues\u001b[49m\u001b[43m)\u001b[49m\n",
            "Cell \u001b[0;32mIn[330], line 3\u001b[0m, in \u001b[0;36mrmsle\u001b[0;34m(y_true, y_pred)\u001b[0m\n\u001b[1;32m      1\u001b[0m \u001b[38;5;28;01mdef\u001b[39;00m \u001b[38;5;21mrmsle\u001b[39m(y_true,y_pred):\n\u001b[1;32m      2\u001b[0m     n \u001b[38;5;241m=\u001b[39m \u001b[38;5;28mlen\u001b[39m(y_true)\n\u001b[0;32m----> 3\u001b[0m     msle \u001b[38;5;241m=\u001b[39m np\u001b[38;5;241m.\u001b[39mmean([(np\u001b[38;5;241m.\u001b[39mlog(\u001b[38;5;28mmax\u001b[39m(y_pred[i],\u001b[38;5;241m0\u001b[39m) \u001b[38;5;241m+\u001b[39m \u001b[38;5;241m1\u001b[39m) \u001b[38;5;241m-\u001b[39m np\u001b[38;5;241m.\u001b[39mlog(y_true[i] \u001b[38;5;241m+\u001b[39m \u001b[38;5;241m1\u001b[39m)) \u001b[38;5;241m*\u001b[39m\u001b[38;5;241m*\u001b[39m \u001b[38;5;241m2.0\u001b[39m \u001b[38;5;28;01mfor\u001b[39;00m i \u001b[38;5;129;01min\u001b[39;00m \u001b[38;5;28mrange\u001b[39m(n)])\n\u001b[1;32m      4\u001b[0m     \u001b[38;5;28;01mreturn\u001b[39;00m np\u001b[38;5;241m.\u001b[39msqrt(msle)\n",
            "Cell \u001b[0;32mIn[330], line 3\u001b[0m, in \u001b[0;36m<listcomp>\u001b[0;34m(.0)\u001b[0m\n\u001b[1;32m      1\u001b[0m \u001b[38;5;28;01mdef\u001b[39;00m \u001b[38;5;21mrmsle\u001b[39m(y_true,y_pred):\n\u001b[1;32m      2\u001b[0m     n \u001b[38;5;241m=\u001b[39m \u001b[38;5;28mlen\u001b[39m(y_true)\n\u001b[0;32m----> 3\u001b[0m     msle \u001b[38;5;241m=\u001b[39m np\u001b[38;5;241m.\u001b[39mmean([(np\u001b[38;5;241m.\u001b[39mlog(\u001b[38;5;28mmax\u001b[39m(\u001b[43my_pred\u001b[49m\u001b[43m[\u001b[49m\u001b[43mi\u001b[49m\u001b[43m]\u001b[49m,\u001b[38;5;241m0\u001b[39m) \u001b[38;5;241m+\u001b[39m \u001b[38;5;241m1\u001b[39m) \u001b[38;5;241m-\u001b[39m np\u001b[38;5;241m.\u001b[39mlog(y_true[i] \u001b[38;5;241m+\u001b[39m \u001b[38;5;241m1\u001b[39m)) \u001b[38;5;241m*\u001b[39m\u001b[38;5;241m*\u001b[39m \u001b[38;5;241m2.0\u001b[39m \u001b[38;5;28;01mfor\u001b[39;00m i \u001b[38;5;129;01min\u001b[39;00m \u001b[38;5;28mrange\u001b[39m(n)])\n\u001b[1;32m      4\u001b[0m     \u001b[38;5;28;01mreturn\u001b[39;00m np\u001b[38;5;241m.\u001b[39msqrt(msle)\n",
            "\u001b[0;31mIndexError\u001b[0m: index 64 is out of bounds for axis 0 with size 64"
          ]
        }
      ],
      "source": [
        "\n",
        "with torch.no_grad():\n",
        "    preds = pd.DataFrame(preds)\n",
        "    print(preds)\n",
        "    targets = pd.DataFrame(y_test.float())\n",
        "    print(targets)\n",
        "    rmsle(targets.values,preds.values)"
      ]
    },
    {
      "cell_type": "code",
      "execution_count": null,
      "metadata": {},
      "outputs": [],
      "source": []
    }
  ],
  "metadata": {
    "colab": {
      "provenance": []
    },
    "kernelspec": {
      "display_name": "Python 3 (ipykernel)",
      "language": "python",
      "name": "python3"
    },
    "language_info": {
      "codemirror_mode": {
        "name": "ipython",
        "version": 3
      },
      "file_extension": ".py",
      "mimetype": "text/x-python",
      "name": "python",
      "nbconvert_exporter": "python",
      "pygments_lexer": "ipython3",
      "version": "3.10.13"
    },
    "varInspector": {
      "cols": {
        "lenName": 16,
        "lenType": 16,
        "lenVar": 40
      },
      "kernels_config": {
        "python": {
          "delete_cmd_postfix": "",
          "delete_cmd_prefix": "del ",
          "library": "var_list.py",
          "varRefreshCmd": "print(var_dic_list())"
        },
        "r": {
          "delete_cmd_postfix": ") ",
          "delete_cmd_prefix": "rm(",
          "library": "var_list.r",
          "varRefreshCmd": "cat(var_dic_list()) "
        }
      },
      "types_to_exclude": [
        "module",
        "function",
        "builtin_function_or_method",
        "instance",
        "_Feature"
      ],
      "window_display": false
    }
  },
  "nbformat": 4,
  "nbformat_minor": 0
}
