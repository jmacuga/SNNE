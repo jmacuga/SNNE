{
 "cells": [
  {
   "cell_type": "code",
   "execution_count": 2,
   "id": "ecbbcba522b3b875",
   "metadata": {
    "ExecuteTime": {
     "end_time": "2024-03-20T23:09:18.458143Z",
     "start_time": "2024-03-20T23:09:16.245556Z"
    },
    "collapsed": false
   },
   "outputs": [],
   "source": [
    "%reset"
   ]
  },
  {
   "cell_type": "code",
   "execution_count": 33,
   "id": "ddc69bd5cd3a47af",
   "metadata": {
    "ExecuteTime": {
     "end_time": "2024-03-20T23:09:18.461910Z",
     "start_time": "2024-03-20T23:09:18.459553Z"
    },
    "collapsed": false
   },
   "outputs": [],
   "source": [
    "import torch.utils.data as data\n",
    "import pandas as pd\n",
    "from sklearn.preprocessing import MinMaxScaler\n",
    "from imblearn.over_sampling import RandomOverSampler\n",
    "import torch\n",
    "import abc\n",
    "import torch.nn as nn\n",
    "import matplotlib.pyplot as plt\n",
    "from sklearn.metrics import f1_score, confusion_matrix, ConfusionMatrixDisplay\n",
    "from torchmetrics.classification import MulticlassAccuracy\n",
    "from tqdm import tqdm\n",
    "from typing import List\n",
    "import numpy as np\n",
    "from sklearn.utils import class_weight"
   ]
  },
  {
   "cell_type": "markdown",
   "id": "21f0091cd5a6f004",
   "metadata": {
    "collapsed": false
   },
   "source": [
    "#### Set up criteria for classifying the data"
   ]
  },
  {
   "cell_type": "code",
   "execution_count": 4,
   "id": "75a2ab3d11002674",
   "metadata": {
    "ExecuteTime": {
     "end_time": "2024-03-20T23:09:18.463897Z",
     "start_time": "2024-03-20T23:09:18.462468Z"
    },
    "collapsed": false
   },
   "outputs": [],
   "source": [
    "CRITERIUM_MAX_AVERAGE = 350000\n",
    "CRITERIUM_MAX_CHEAP = 100000"
   ]
  },
  {
   "cell_type": "code",
   "execution_count": 5,
   "id": "e9fd28a6c6909a0b",
   "metadata": {
    "ExecuteTime": {
     "end_time": "2024-03-20T23:09:18.466923Z",
     "start_time": "2024-03-20T23:09:18.465168Z"
    },
    "collapsed": false
   },
   "outputs": [],
   "source": [
    "COLUMNS_TO_DUMMY = [\n",
    "    \"HeatingType\",\n",
    "    \"AptManageType\",\n",
    "    \"HallwayType\",\n",
    "    \"TimeToBusStop\",\n",
    "    \"TimeToSubway\",\n",
    "    \"SubwayStation\",\n",
    "]\n",
    "OUTPUT_COLUMN = \"SalePrice\""
   ]
  },
  {
   "cell_type": "markdown",
   "id": "82b896ae2e884ab2",
   "metadata": {
    "collapsed": false
   },
   "source": [
    "# Create a dataset class for classification"
   ]
  },
  {
   "cell_type": "code",
   "execution_count": 6,
   "id": "4eeb0436a9898200",
   "metadata": {
    "ExecuteTime": {
     "end_time": "2024-03-20T23:09:18.472502Z",
     "start_time": "2024-03-20T23:09:18.467560Z"
    },
    "collapsed": false
   },
   "outputs": [],
   "source": [
    "class HouseDataset(data.Dataset):\n",
    "    def __init__(self, path_to_csv: str, scaler=None) -> None:\n",
    "        super().__init__()\n",
    "        self.data = pd.read_csv(path_to_csv)\n",
    "        self.scaler = scaler\n",
    "        self._prepare_data()\n",
    "        self.headers = list(self.data.columns)\n",
    "        self._to_tensor()\n",
    "        self.size = self.data.shape[0]\n",
    "\n",
    "    def __len__(self) -> int:\n",
    "        return self.size\n",
    "\n",
    "    def __getitem__(self, idx) -> tuple[torch.tensor, torch.tensor]:\n",
    "        data_point = self.data[idx]\n",
    "        data_label = self.label[idx]\n",
    "        return data_point, data_label\n",
    "\n",
    "    def _to_dummy_columns(self, columns: List[str]) -> pd.DataFrame:\n",
    "        dummy_columns = pd.get_dummies(self.data, columns=columns).astype(float)\n",
    "        return dummy_columns\n",
    "\n",
    "    def prepare_for_training(self) -> None:\n",
    "        self.data = self.get_data_as_pandas()\n",
    "        self._multiply_data()\n",
    "        self.shuffle()\n",
    "        self._to_tensor()\n",
    "\n",
    "    def _scale_data(self) -> None:\n",
    "        for column in self.data:\n",
    "            if column not in COLUMNS_TO_DUMMY and column != OUTPUT_COLUMN:\n",
    "                self.data[column] = self.scaler.fit_transform(\n",
    "                    self.data[column].values.reshape(-1, 1)\n",
    "                )\n",
    "\n",
    "    def _prepare_data(self) -> None:\n",
    "        self.data = self._to_dummy_columns(columns=COLUMNS_TO_DUMMY)\n",
    "        if self.scaler:\n",
    "            self._scale_data()\n",
    "\n",
    "    def _to_tensor(self) -> None:\n",
    "        self.headers = list(self.data.columns)\n",
    "        self.label = torch.tensor(self.data.iloc[:, 0].values, dtype=torch.float32)\n",
    "        self.data = torch.tensor(self.data.iloc[:, 1:].values, dtype=torch.float32)\n",
    "        self.size = self.data.shape[0]\n",
    "\n",
    "    def get_data_as_pandas(self) -> tuple[pd.DataFrame, pd.DataFrame]:\n",
    "        data = pd.DataFrame(self.data.numpy())\n",
    "        labels = pd.DataFrame(self.label.numpy())\n",
    "        df = pd.concat([labels, data], axis=1)\n",
    "        df.columns = self.headers\n",
    "        return df\n",
    "\n",
    "    @abc.abstractmethod\n",
    "    def _multiply_data(self) -> None:\n",
    "        return\n",
    "\n",
    "    \n",
    "    def shuffle(self):\n",
    "        self.data.sample(frac=1)"
   ]
  },
  {
   "cell_type": "code",
   "execution_count": 7,
   "id": "ce520d3db778c4d7",
   "metadata": {
    "ExecuteTime": {
     "end_time": "2024-03-20T23:09:18.476039Z",
     "start_time": "2024-03-20T23:09:18.473306Z"
    },
    "collapsed": false
   },
   "outputs": [],
   "source": [
    "class HouseDatasetClassification(HouseDataset):\n",
    "    def __init__(self, path_to_csv: str, scaler=None) -> None:\n",
    "        super().__init__(path_to_csv, scaler)\n",
    "        self._classify_data()\n",
    "\n",
    "    def _classify_data(self) -> None:\n",
    "        self.label = torch.where(\n",
    "            self.label > CRITERIUM_MAX_AVERAGE,\n",
    "            torch.tensor(2),\n",
    "            torch.where(\n",
    "                (self.label > CRITERIUM_MAX_CHEAP)\n",
    "                & (self.label <= CRITERIUM_MAX_AVERAGE),\n",
    "                torch.tensor(1),\n",
    "                torch.tensor(0),\n",
    "            ),\n",
    "        )\n",
    "\n",
    "    def _multiply_data(self) -> None:\n",
    "        ros = RandomOverSampler()\n",
    "        x, y = ros.fit_resample(self.data.iloc[:,1:], self.data[OUTPUT_COLUMN])\n",
    "        self.data = pd.concat([y, x], axis=1)"
   ]
  },
  {
   "cell_type": "code",
   "execution_count": 8,
   "id": "f8aee51640d8ca69",
   "metadata": {
    "ExecuteTime": {
     "end_time": "2024-03-20T23:09:18.478223Z",
     "start_time": "2024-03-20T23:09:18.476695Z"
    },
    "collapsed": false
   },
   "outputs": [],
   "source": [
    "train_path = \"../data/split_train_data/train_data.csv\"\n",
    "val_path = \"../data/split_train_data/val_data.csv\"\n",
    "scaler = MinMaxScaler()"
   ]
  },
  {
   "cell_type": "code",
   "execution_count": 10,
   "id": "20699de6d6f88cd0",
   "metadata": {
    "ExecuteTime": {
     "end_time": "2024-03-20T23:09:18.499968Z",
     "start_time": "2024-03-20T23:09:18.478849Z"
    },
    "collapsed": false
   },
   "outputs": [],
   "source": [
    "train_dataset_classify = HouseDatasetClassification(train_path, scaler)\n",
    "train_dataset_classify.prepare_for_training()\n",
    "train_dataset_classify_df = train_dataset_classify.get_data_as_pandas()\n",
    "\n",
    "val_dataset_classify = HouseDatasetClassification(val_path, scaler)\n",
    "# train_dataset_classify_df = train_dataset_classify.get_data_as_pandas()"
   ]
  },
  {
   "cell_type": "code",
   "execution_count": 11,
   "id": "8acb2d4740a9dc5b",
   "metadata": {
    "ExecuteTime": {
     "end_time": "2024-03-20T23:09:18.503153Z",
     "start_time": "2024-03-20T23:09:18.501569Z"
    },
    "collapsed": false
   },
   "outputs": [],
   "source": [
    "# Display the data"
   ]
  },
  {
   "cell_type": "code",
   "execution_count": 46,
   "id": "48326919b8e303f2",
   "metadata": {
    "ExecuteTime": {
     "end_time": "2024-03-20T23:09:18.521133Z",
     "start_time": "2024-03-20T23:09:18.509264Z"
    },
    "collapsed": false
   },
   "outputs": [
    {
     "data": {
      "text/html": [
       "<div>\n",
       "<style scoped>\n",
       "    .dataframe tbody tr th:only-of-type {\n",
       "        vertical-align: middle;\n",
       "    }\n",
       "\n",
       "    .dataframe tbody tr th {\n",
       "        vertical-align: top;\n",
       "    }\n",
       "\n",
       "    .dataframe thead th {\n",
       "        text-align: right;\n",
       "    }\n",
       "</style>\n",
       "<table border=\"1\" class=\"dataframe\">\n",
       "  <thead>\n",
       "    <tr style=\"text-align: right;\">\n",
       "      <th></th>\n",
       "      <th>SalePrice</th>\n",
       "      <th>YearBuilt</th>\n",
       "      <th>Size(sqf)</th>\n",
       "      <th>Floor</th>\n",
       "      <th>N_Parkinglot(Ground)</th>\n",
       "      <th>N_Parkinglot(Basement)</th>\n",
       "      <th>N_manager</th>\n",
       "      <th>N_elevators</th>\n",
       "      <th>N_FacilitiesInApt</th>\n",
       "      <th>N_FacilitiesNearBy(Total)</th>\n",
       "      <th>...</th>\n",
       "      <th>TimeToSubway_5min~10min</th>\n",
       "      <th>TimeToSubway_no_bus_stop_nearby</th>\n",
       "      <th>SubwayStation_Bangoge</th>\n",
       "      <th>SubwayStation_Banwoldang</th>\n",
       "      <th>SubwayStation_Chil-sung-market</th>\n",
       "      <th>SubwayStation_Daegu</th>\n",
       "      <th>SubwayStation_Kyungbuk_uni_hospital</th>\n",
       "      <th>SubwayStation_Myung-duk</th>\n",
       "      <th>SubwayStation_Sin-nam</th>\n",
       "      <th>SubwayStation_no_subway_nearby</th>\n",
       "    </tr>\n",
       "  </thead>\n",
       "  <tbody>\n",
       "    <tr>\n",
       "      <th>0</th>\n",
       "      <td>0.0</td>\n",
       "      <td>0.729730</td>\n",
       "      <td>0.198456</td>\n",
       "      <td>0.380952</td>\n",
       "      <td>0.093969</td>\n",
       "      <td>0.604088</td>\n",
       "      <td>0.384615</td>\n",
       "      <td>0.000000</td>\n",
       "      <td>0.666667</td>\n",
       "      <td>0.8125</td>\n",
       "      <td>...</td>\n",
       "      <td>1.0</td>\n",
       "      <td>0.0</td>\n",
       "      <td>1.0</td>\n",
       "      <td>0.0</td>\n",
       "      <td>0.0</td>\n",
       "      <td>0.0</td>\n",
       "      <td>0.0</td>\n",
       "      <td>0.0</td>\n",
       "      <td>0.0</td>\n",
       "      <td>0.0</td>\n",
       "    </tr>\n",
       "    <tr>\n",
       "      <th>1</th>\n",
       "      <td>1.0</td>\n",
       "      <td>0.783784</td>\n",
       "      <td>0.332879</td>\n",
       "      <td>0.190476</td>\n",
       "      <td>0.000000</td>\n",
       "      <td>0.961393</td>\n",
       "      <td>1.000000</td>\n",
       "      <td>0.592593</td>\n",
       "      <td>1.000000</td>\n",
       "      <td>0.5625</td>\n",
       "      <td>...</td>\n",
       "      <td>0.0</td>\n",
       "      <td>0.0</td>\n",
       "      <td>0.0</td>\n",
       "      <td>0.0</td>\n",
       "      <td>0.0</td>\n",
       "      <td>0.0</td>\n",
       "      <td>1.0</td>\n",
       "      <td>0.0</td>\n",
       "      <td>0.0</td>\n",
       "      <td>0.0</td>\n",
       "    </tr>\n",
       "    <tr>\n",
       "      <th>2</th>\n",
       "      <td>2.0</td>\n",
       "      <td>1.000000</td>\n",
       "      <td>0.353769</td>\n",
       "      <td>0.142857</td>\n",
       "      <td>0.245442</td>\n",
       "      <td>1.000000</td>\n",
       "      <td>0.538462</td>\n",
       "      <td>0.888889</td>\n",
       "      <td>1.000000</td>\n",
       "      <td>0.3750</td>\n",
       "      <td>...</td>\n",
       "      <td>1.0</td>\n",
       "      <td>0.0</td>\n",
       "      <td>0.0</td>\n",
       "      <td>0.0</td>\n",
       "      <td>0.0</td>\n",
       "      <td>0.0</td>\n",
       "      <td>0.0</td>\n",
       "      <td>0.0</td>\n",
       "      <td>0.0</td>\n",
       "      <td>1.0</td>\n",
       "    </tr>\n",
       "    <tr>\n",
       "      <th>3</th>\n",
       "      <td>0.0</td>\n",
       "      <td>0.378378</td>\n",
       "      <td>0.200272</td>\n",
       "      <td>0.285714</td>\n",
       "      <td>0.280505</td>\n",
       "      <td>0.000000</td>\n",
       "      <td>0.307692</td>\n",
       "      <td>0.370370</td>\n",
       "      <td>0.222222</td>\n",
       "      <td>1.0000</td>\n",
       "      <td>...</td>\n",
       "      <td>0.0</td>\n",
       "      <td>0.0</td>\n",
       "      <td>0.0</td>\n",
       "      <td>0.0</td>\n",
       "      <td>0.0</td>\n",
       "      <td>0.0</td>\n",
       "      <td>0.0</td>\n",
       "      <td>1.0</td>\n",
       "      <td>0.0</td>\n",
       "      <td>0.0</td>\n",
       "    </tr>\n",
       "    <tr>\n",
       "      <th>4</th>\n",
       "      <td>1.0</td>\n",
       "      <td>0.405405</td>\n",
       "      <td>0.597638</td>\n",
       "      <td>0.571429</td>\n",
       "      <td>0.733520</td>\n",
       "      <td>0.405753</td>\n",
       "      <td>0.538462</td>\n",
       "      <td>0.740741</td>\n",
       "      <td>0.333333</td>\n",
       "      <td>0.8750</td>\n",
       "      <td>...</td>\n",
       "      <td>0.0</td>\n",
       "      <td>0.0</td>\n",
       "      <td>0.0</td>\n",
       "      <td>0.0</td>\n",
       "      <td>0.0</td>\n",
       "      <td>0.0</td>\n",
       "      <td>0.0</td>\n",
       "      <td>1.0</td>\n",
       "      <td>0.0</td>\n",
       "      <td>0.0</td>\n",
       "    </tr>\n",
       "    <tr>\n",
       "      <th>...</th>\n",
       "      <td>...</td>\n",
       "      <td>...</td>\n",
       "      <td>...</td>\n",
       "      <td>...</td>\n",
       "      <td>...</td>\n",
       "      <td>...</td>\n",
       "      <td>...</td>\n",
       "      <td>...</td>\n",
       "      <td>...</td>\n",
       "      <td>...</td>\n",
       "      <td>...</td>\n",
       "      <td>...</td>\n",
       "      <td>...</td>\n",
       "      <td>...</td>\n",
       "      <td>...</td>\n",
       "      <td>...</td>\n",
       "      <td>...</td>\n",
       "      <td>...</td>\n",
       "      <td>...</td>\n",
       "      <td>...</td>\n",
       "      <td>...</td>\n",
       "    </tr>\n",
       "    <tr>\n",
       "      <th>6010</th>\n",
       "      <td>2.0</td>\n",
       "      <td>0.783784</td>\n",
       "      <td>0.612171</td>\n",
       "      <td>0.214286</td>\n",
       "      <td>0.009818</td>\n",
       "      <td>0.457986</td>\n",
       "      <td>0.307692</td>\n",
       "      <td>0.185185</td>\n",
       "      <td>0.444444</td>\n",
       "      <td>0.5625</td>\n",
       "      <td>...</td>\n",
       "      <td>0.0</td>\n",
       "      <td>0.0</td>\n",
       "      <td>0.0</td>\n",
       "      <td>1.0</td>\n",
       "      <td>0.0</td>\n",
       "      <td>0.0</td>\n",
       "      <td>0.0</td>\n",
       "      <td>0.0</td>\n",
       "      <td>0.0</td>\n",
       "      <td>0.0</td>\n",
       "    </tr>\n",
       "    <tr>\n",
       "      <th>6011</th>\n",
       "      <td>2.0</td>\n",
       "      <td>0.783784</td>\n",
       "      <td>0.684832</td>\n",
       "      <td>0.857143</td>\n",
       "      <td>0.000000</td>\n",
       "      <td>0.961393</td>\n",
       "      <td>1.000000</td>\n",
       "      <td>0.592593</td>\n",
       "      <td>1.000000</td>\n",
       "      <td>0.5625</td>\n",
       "      <td>...</td>\n",
       "      <td>0.0</td>\n",
       "      <td>0.0</td>\n",
       "      <td>0.0</td>\n",
       "      <td>0.0</td>\n",
       "      <td>0.0</td>\n",
       "      <td>0.0</td>\n",
       "      <td>1.0</td>\n",
       "      <td>0.0</td>\n",
       "      <td>0.0</td>\n",
       "      <td>0.0</td>\n",
       "    </tr>\n",
       "    <tr>\n",
       "      <th>6012</th>\n",
       "      <td>2.0</td>\n",
       "      <td>0.405405</td>\n",
       "      <td>0.738420</td>\n",
       "      <td>0.095238</td>\n",
       "      <td>0.733520</td>\n",
       "      <td>0.405753</td>\n",
       "      <td>0.538462</td>\n",
       "      <td>0.740741</td>\n",
       "      <td>0.333333</td>\n",
       "      <td>0.8750</td>\n",
       "      <td>...</td>\n",
       "      <td>0.0</td>\n",
       "      <td>0.0</td>\n",
       "      <td>0.0</td>\n",
       "      <td>0.0</td>\n",
       "      <td>0.0</td>\n",
       "      <td>0.0</td>\n",
       "      <td>0.0</td>\n",
       "      <td>1.0</td>\n",
       "      <td>0.0</td>\n",
       "      <td>0.0</td>\n",
       "    </tr>\n",
       "    <tr>\n",
       "      <th>6013</th>\n",
       "      <td>2.0</td>\n",
       "      <td>0.783784</td>\n",
       "      <td>0.568574</td>\n",
       "      <td>0.904762</td>\n",
       "      <td>0.000000</td>\n",
       "      <td>0.961393</td>\n",
       "      <td>1.000000</td>\n",
       "      <td>0.592593</td>\n",
       "      <td>1.000000</td>\n",
       "      <td>0.5625</td>\n",
       "      <td>...</td>\n",
       "      <td>0.0</td>\n",
       "      <td>0.0</td>\n",
       "      <td>0.0</td>\n",
       "      <td>0.0</td>\n",
       "      <td>0.0</td>\n",
       "      <td>0.0</td>\n",
       "      <td>1.0</td>\n",
       "      <td>0.0</td>\n",
       "      <td>0.0</td>\n",
       "      <td>0.0</td>\n",
       "    </tr>\n",
       "    <tr>\n",
       "      <th>6014</th>\n",
       "      <td>2.0</td>\n",
       "      <td>0.783784</td>\n",
       "      <td>0.571753</td>\n",
       "      <td>0.285714</td>\n",
       "      <td>0.776999</td>\n",
       "      <td>0.396669</td>\n",
       "      <td>0.307692</td>\n",
       "      <td>0.370370</td>\n",
       "      <td>0.333333</td>\n",
       "      <td>0.5625</td>\n",
       "      <td>...</td>\n",
       "      <td>0.0</td>\n",
       "      <td>0.0</td>\n",
       "      <td>0.0</td>\n",
       "      <td>1.0</td>\n",
       "      <td>0.0</td>\n",
       "      <td>0.0</td>\n",
       "      <td>0.0</td>\n",
       "      <td>0.0</td>\n",
       "      <td>0.0</td>\n",
       "      <td>0.0</td>\n",
       "    </tr>\n",
       "  </tbody>\n",
       "</table>\n",
       "<p>6015 rows × 34 columns</p>\n",
       "</div>"
      ],
      "text/plain": [
       "      SalePrice  YearBuilt  Size(sqf)     Floor  N_Parkinglot(Ground)  \\\n",
       "0           0.0   0.729730   0.198456  0.380952              0.093969   \n",
       "1           1.0   0.783784   0.332879  0.190476              0.000000   \n",
       "2           2.0   1.000000   0.353769  0.142857              0.245442   \n",
       "3           0.0   0.378378   0.200272  0.285714              0.280505   \n",
       "4           1.0   0.405405   0.597638  0.571429              0.733520   \n",
       "...         ...        ...        ...       ...                   ...   \n",
       "6010        2.0   0.783784   0.612171  0.214286              0.009818   \n",
       "6011        2.0   0.783784   0.684832  0.857143              0.000000   \n",
       "6012        2.0   0.405405   0.738420  0.095238              0.733520   \n",
       "6013        2.0   0.783784   0.568574  0.904762              0.000000   \n",
       "6014        2.0   0.783784   0.571753  0.285714              0.776999   \n",
       "\n",
       "      N_Parkinglot(Basement)  N_manager  N_elevators  N_FacilitiesInApt  \\\n",
       "0                   0.604088   0.384615     0.000000           0.666667   \n",
       "1                   0.961393   1.000000     0.592593           1.000000   \n",
       "2                   1.000000   0.538462     0.888889           1.000000   \n",
       "3                   0.000000   0.307692     0.370370           0.222222   \n",
       "4                   0.405753   0.538462     0.740741           0.333333   \n",
       "...                      ...        ...          ...                ...   \n",
       "6010                0.457986   0.307692     0.185185           0.444444   \n",
       "6011                0.961393   1.000000     0.592593           1.000000   \n",
       "6012                0.405753   0.538462     0.740741           0.333333   \n",
       "6013                0.961393   1.000000     0.592593           1.000000   \n",
       "6014                0.396669   0.307692     0.370370           0.333333   \n",
       "\n",
       "      N_FacilitiesNearBy(Total)  ...  TimeToSubway_5min~10min  \\\n",
       "0                        0.8125  ...                      1.0   \n",
       "1                        0.5625  ...                      0.0   \n",
       "2                        0.3750  ...                      1.0   \n",
       "3                        1.0000  ...                      0.0   \n",
       "4                        0.8750  ...                      0.0   \n",
       "...                         ...  ...                      ...   \n",
       "6010                     0.5625  ...                      0.0   \n",
       "6011                     0.5625  ...                      0.0   \n",
       "6012                     0.8750  ...                      0.0   \n",
       "6013                     0.5625  ...                      0.0   \n",
       "6014                     0.5625  ...                      0.0   \n",
       "\n",
       "      TimeToSubway_no_bus_stop_nearby  SubwayStation_Bangoge  \\\n",
       "0                                 0.0                    1.0   \n",
       "1                                 0.0                    0.0   \n",
       "2                                 0.0                    0.0   \n",
       "3                                 0.0                    0.0   \n",
       "4                                 0.0                    0.0   \n",
       "...                               ...                    ...   \n",
       "6010                              0.0                    0.0   \n",
       "6011                              0.0                    0.0   \n",
       "6012                              0.0                    0.0   \n",
       "6013                              0.0                    0.0   \n",
       "6014                              0.0                    0.0   \n",
       "\n",
       "      SubwayStation_Banwoldang  SubwayStation_Chil-sung-market  \\\n",
       "0                          0.0                             0.0   \n",
       "1                          0.0                             0.0   \n",
       "2                          0.0                             0.0   \n",
       "3                          0.0                             0.0   \n",
       "4                          0.0                             0.0   \n",
       "...                        ...                             ...   \n",
       "6010                       1.0                             0.0   \n",
       "6011                       0.0                             0.0   \n",
       "6012                       0.0                             0.0   \n",
       "6013                       0.0                             0.0   \n",
       "6014                       1.0                             0.0   \n",
       "\n",
       "      SubwayStation_Daegu  SubwayStation_Kyungbuk_uni_hospital  \\\n",
       "0                     0.0                                  0.0   \n",
       "1                     0.0                                  1.0   \n",
       "2                     0.0                                  0.0   \n",
       "3                     0.0                                  0.0   \n",
       "4                     0.0                                  0.0   \n",
       "...                   ...                                  ...   \n",
       "6010                  0.0                                  0.0   \n",
       "6011                  0.0                                  1.0   \n",
       "6012                  0.0                                  0.0   \n",
       "6013                  0.0                                  1.0   \n",
       "6014                  0.0                                  0.0   \n",
       "\n",
       "      SubwayStation_Myung-duk  SubwayStation_Sin-nam  \\\n",
       "0                         0.0                    0.0   \n",
       "1                         0.0                    0.0   \n",
       "2                         0.0                    0.0   \n",
       "3                         1.0                    0.0   \n",
       "4                         1.0                    0.0   \n",
       "...                       ...                    ...   \n",
       "6010                      0.0                    0.0   \n",
       "6011                      0.0                    0.0   \n",
       "6012                      1.0                    0.0   \n",
       "6013                      0.0                    0.0   \n",
       "6014                      0.0                    0.0   \n",
       "\n",
       "      SubwayStation_no_subway_nearby  \n",
       "0                                0.0  \n",
       "1                                0.0  \n",
       "2                                1.0  \n",
       "3                                0.0  \n",
       "4                                0.0  \n",
       "...                              ...  \n",
       "6010                             0.0  \n",
       "6011                             0.0  \n",
       "6012                             0.0  \n",
       "6013                             0.0  \n",
       "6014                             0.0  \n",
       "\n",
       "[6015 rows x 34 columns]"
      ]
     },
     "execution_count": 46,
     "metadata": {},
     "output_type": "execute_result"
    }
   ],
   "source": [
    "train_dataset_classify_df"
   ]
  },
  {
   "cell_type": "code",
   "execution_count": 12,
   "id": "6a39122fcd9b551a",
   "metadata": {
    "ExecuteTime": {
     "end_time": "2024-03-20T23:09:18.525944Z",
     "start_time": "2024-03-20T23:09:18.522445Z"
    },
    "collapsed": false
   },
   "outputs": [
    {
     "data": {
      "text/plain": [
       "SalePrice\n",
       "0.0    2005\n",
       "1.0    2005\n",
       "2.0    2005\n",
       "Name: count, dtype: int64"
      ]
     },
     "execution_count": 12,
     "metadata": {},
     "output_type": "execute_result"
    }
   ],
   "source": [
    "train_dataset_classify_df.iloc[:, 0].value_counts()"
   ]
  },
  {
   "cell_type": "markdown",
   "id": "c59399c3c77e0dd2",
   "metadata": {
    "collapsed": false
   },
   "source": [
    "# Classification model"
   ]
  },
  {
   "cell_type": "code",
   "execution_count": 13,
   "id": "4c06a57a2790ba07",
   "metadata": {
    "ExecuteTime": {
     "end_time": "2024-03-20T23:09:18.529351Z",
     "start_time": "2024-03-20T23:09:18.526696Z"
    },
    "collapsed": false
   },
   "outputs": [],
   "source": [
    "class HousingClassificationModel(nn.Module):\n",
    "    def __init__(self, input_size: int, class_num: int) -> None:\n",
    "        super().__init__()\n",
    "        self.fc1 = nn.Linear(input_size, 56)\n",
    "        self.dropout = nn.Dropout(0.1)\n",
    "        self.gelu = nn.LeakyReLU()\n",
    "        self.fc2 = nn.Linear(56, 32)\n",
    "        self.bn2 = nn.BatchNorm1d(32)\n",
    "        self.fc3 = nn.Linear(32,  class_num)\n",
    "        self.softmax = nn.Softmax(dim=1)\n",
    "\n",
    "    def forward(self, x: torch.tensor) -> torch.tensor:\n",
    "        x = self.fc1(x)\n",
    "        x = self.dropout(x)\n",
    "        x = self.gelu(x)\n",
    "        x = self.fc2(x)\n",
    "        x = self.gelu(x)\n",
    "        x = self.dropout(x)\n",
    "        # x = self.bn2(x)\n",
    "        x = self.fc3(x)\n",
    "        return x"
   ]
  },
  {
   "cell_type": "markdown",
   "id": "41e97ae93face9a6",
   "metadata": {
    "collapsed": false
   },
   "source": [
    "####  Prepare loaders and set batch size"
   ]
  },
  {
   "cell_type": "code",
   "execution_count": 14,
   "id": "ea89e4426bdf2b31",
   "metadata": {
    "ExecuteTime": {
     "end_time": "2024-03-20T23:09:18.532374Z",
     "start_time": "2024-03-20T23:09:18.530041Z"
    },
    "collapsed": false
   },
   "outputs": [],
   "source": [
    "batch_size = 32\n",
    "train_loader_classify = data.DataLoader(train_dataset_classify, batch_size=batch_size, shuffle=True)\n",
    "validation_loader_classify = data.DataLoader(val_dataset_classify, batch_size=batch_size, shuffle=True)"
   ]
  },
  {
   "cell_type": "code",
   "execution_count": 41,
   "id": "d0dd85e5",
   "metadata": {},
   "outputs": [
    {
     "data": {
      "text/plain": [
       "tensor([0., 1., 2.,  ..., 2., 2., 2.])"
      ]
     },
     "execution_count": 41,
     "metadata": {},
     "output_type": "execute_result"
    }
   ],
   "source": [
    "train_dataset_classify.label"
   ]
  },
  {
   "cell_type": "markdown",
   "id": "8d05f35242e7f1b9",
   "metadata": {
    "collapsed": false
   },
   "source": [
    "#### Set up the model, optimizer and loss function"
   ]
  },
  {
   "cell_type": "code",
   "execution_count": 83,
   "id": "c54d4b07b52dca9d",
   "metadata": {
    "ExecuteTime": {
     "end_time": "2024-03-20T23:09:18.548511Z",
     "start_time": "2024-03-20T23:09:18.543988Z"
    },
    "collapsed": false
   },
   "outputs": [],
   "source": [
    "model_classify = HousingClassificationModel(input_size=train_dataset_classify.data.shape[1], class_num=3)\n",
    "optimizer = torch.optim.Adam(model_classify.parameters(), lr=0.001)\n",
    "loss_fn_classify = nn.CrossEntropyLoss()\n",
    "mca = MulticlassAccuracy(num_classes=3, average=None)"
   ]
  },
  {
   "cell_type": "markdown",
   "id": "36824f8da5825829",
   "metadata": {
    "collapsed": false
   },
   "source": [
    "# Train the model"
   ]
  },
  {
   "cell_type": "code",
   "execution_count": 84,
   "id": "c81432a52316cf45",
   "metadata": {
    "ExecuteTime": {
     "end_time": "2024-03-20T23:10:16.540662Z",
     "start_time": "2024-03-20T23:09:18.549833Z"
    },
    "collapsed": false
   },
   "outputs": [
    {
     "name": "stderr",
     "output_type": "stream",
     "text": [
      "100%|██████████| 50/50 [01:39<00:00,  1.98s/it, Epoch=50, Los in train={0.2534977552144134}, Loss in eval={0.4342597768057224}, f1 in train={0.2534977552144134}, f1 in eval={0.4342597768057224}]    \n"
     ]
    }
   ],
   "source": [
    "EPOCHS_NUMBER = 50\n",
    "train_losses, train_accuracies, val_losses, val_accuracies, train_f1_scores, val_f1_scores = [], [], [], [], [], []\n",
    "tqdm_progress = tqdm(range(EPOCHS_NUMBER))\n",
    "\n",
    "t_batch_num, v_batch_num = len(train_loader_classify), len(validation_loader_classify)\n",
    "\n",
    "for epoch in tqdm_progress:\n",
    "    train_batch_loss_sum, val_batch_loss_sum = 0, 0\n",
    "    train_batch_accuracy_sum, val_batch_accuracy_sum = 0, 0\n",
    "    train_batch_f1_score_sum, val_batch_f1_score_sum = 0, 0\n",
    "\n",
    "    model_classify.train()\n",
    "    for data, label in train_loader_classify:\n",
    "        model_output = model_classify(data).squeeze()\n",
    "        loss = loss_fn_classify(model_output, label.type(torch.LongTensor))\n",
    "        loss.backward()\n",
    "        optimizer.step()\n",
    "        train_batch_loss_sum += loss.item()\n",
    "        optimizer.zero_grad()\n",
    "        train_batch_accuracy_sum += mca(torch.argmax(model_output, dim=1), label)\n",
    "        train_batch_f1_score_sum += f1_score(torch.argmax(model_output, dim=1), label, average=\"micro\")\n",
    "\n",
    "    train_batch_loss_avg = train_batch_loss_sum / t_batch_num\n",
    "    train_batch_accuracy_avg = train_batch_accuracy_sum / t_batch_num\n",
    "    train_batch_f1_score_avg = train_batch_f1_score_sum / t_batch_num\n",
    "\n",
    "    train_losses.append(train_batch_loss_avg)\n",
    "    train_accuracies.append(train_batch_accuracy_avg)\n",
    "    train_f1_scores.append(train_batch_f1_score_avg)\n",
    "    \n",
    "    model_classify.eval()\n",
    "    for val_inputs, val_labels in validation_loader_classify:\n",
    "        val_predicts = model_classify(val_inputs).squeeze(dim=1)\n",
    "        val_loss = loss_fn_classify(val_predicts, val_labels.type(torch.LongTensor))\n",
    "        val_batch_loss_sum += val_loss.item()\n",
    "        val_batch_accuracy_sum += mca(torch.argmax(val_predicts, dim=1), val_labels)\n",
    "        val_batch_f1_score_sum += f1_score(\n",
    "            torch.argmax(val_predicts, dim=1), val_labels, average=\"micro\"\n",
    "        )\n",
    "    val_batch_loss_avg = val_batch_loss_sum / v_batch_num\n",
    "    val_batch_accuracy_avg = val_batch_accuracy_sum / v_batch_num\n",
    "    val_batch_f1_score_avg = val_batch_f1_score_sum / v_batch_num\n",
    "    \n",
    "    val_accuracies.append(val_batch_accuracy_avg)\n",
    "    val_losses.append(val_batch_loss_avg)\n",
    "    val_f1_scores.append(val_batch_f1_score_avg)\n",
    "    \n",
    "    tqdm_progress.set_postfix(\n",
    "        {\n",
    "            \"Epoch\": epoch + 1,\n",
    "            \"Los in train\": {train_batch_loss_avg},\n",
    "            \"Loss in eval\": {val_batch_loss_avg},\n",
    "            \"f1 in train\": {train_batch_f1_score_avg},\n",
    "            \"f1 in eval\": {val_batch_f1_score_avg},\n",
    "        }\n",
    "    )"
   ]
  },
  {
   "cell_type": "code",
   "execution_count": 85,
   "id": "c8599f87fc5af03c",
   "metadata": {
    "ExecuteTime": {
     "end_time": "2024-03-20T23:10:16.546781Z",
     "start_time": "2024-03-20T23:10:16.542263Z"
    },
    "collapsed": false
   },
   "outputs": [],
   "source": [
    "with torch.no_grad():\n",
    "    predicts_train = model_classify(train_dataset_classify.data.clone().detach())\n",
    "    predicts_val = model_classify(val_dataset_classify.data.clone().detach())\n",
    "    predicted_argmax_train = torch.argmax(predicts_train, dim=1)\n",
    "    predicted_argmax_val = torch.argmax(predicts_val, dim=1)"
   ]
  },
  {
   "cell_type": "code",
   "execution_count": 93,
   "id": "cfe524b179b0f4f8",
   "metadata": {
    "ExecuteTime": {
     "end_time": "2024-03-20T23:10:16.700335Z",
     "start_time": "2024-03-20T23:10:16.552985Z"
    },
    "collapsed": false
   },
   "outputs": [
    {
     "data": {
      "text/plain": [
       "Text(0, 0.5, 'Accuracy')"
      ]
     },
     "execution_count": 93,
     "metadata": {},
     "output_type": "execute_result"
    },
    {
     "data": {
      "image/png": "[encoded data removed]",
      "text/plain": [
       "<Figure size 640x480 with 1 Axes>"
      ]
     },
     "metadata": {},
     "output_type": "display_data"
    }
   ],
   "source": [
    "plt.plot(train_accuracies, label=\"Train\")\n",
    "plt.plot(val_accuracies, label=\"Validation\")\n",
    "plt.legend()\n",
    "plt.title(\"Accuracy\")\n",
    "plt.xlabel(\"Epochs\")\n",
    "plt.ylabel(\"Accuracy\")"
   ]
  },
  {
   "cell_type": "code",
   "execution_count": 94,
   "id": "985842ce",
   "metadata": {},
   "outputs": [
    {
     "data": {
      "text/plain": [
       "Text(0, 0.5, 'F1 score')"
      ]
     },
     "execution_count": 94,
     "metadata": {},
     "output_type": "execute_result"
    },
    {
     "data": {
      "image/png": "[encoded data removed]",
      "text/plain": [
       "<Figure size 640x480 with 1 Axes>"
      ]
     },
     "metadata": {},
     "output_type": "display_data"
    }
   ],
   "source": [
    "plt.plot(train_f1_scores, label=\"Train\")\n",
    "plt.plot(val_f1_scores, label=\"Validation\")\n",
    "plt.legend()\n",
    "plt.title(\"F1 score\")\n",
    "plt.xlabel(\"Epochs\")\n",
    "plt.ylabel(\"F1 score\")"
   ]
  },
  {
   "cell_type": "code",
   "execution_count": 89,
   "id": "385eb2c9f8c8b80",
   "metadata": {
    "ExecuteTime": {
     "end_time": "2024-03-20T23:10:16.738517Z",
     "start_time": "2024-03-20T23:10:16.733444Z"
    },
    "collapsed": false
   },
   "outputs": [],
   "source": [
    "train_accuracies_mean = [tensor.mean().item() for tensor in train_accuracies]\n",
    "val_accuracies_mean = [tensor.mean().item() for tensor in val_accuracies]"
   ]
  },
  {
   "cell_type": "code",
   "execution_count": null,
   "id": "1a7441384eced5bc",
   "metadata": {
    "ExecuteTime": {
     "end_time": "2024-03-20T23:10:16.835487Z",
     "start_time": "2024-03-20T23:10:16.739468Z"
    },
    "collapsed": false
   },
   "outputs": [
    {
     "data": {
      "text/plain": [
       "<matplotlib.legend.Legend at 0x7f086d16b370>"
      ]
     },
     "execution_count": 90,
     "metadata": {},
     "output_type": "execute_result"
    },
    {
     "data": {
      "image/png": "[encoded data removed]",
      "text/plain": [
       "<Figure size 640x480 with 1 Axes>"
      ]
     },
     "metadata": {},
     "output_type": "display_data"
    }
   ],
   "source": [
    "plt.plot(train_accuracies_mean, label=\"Train\")\n",
    "plt.plot(val_accuracies_mean, label=\"Validation\")\n",
    "plt.legend()\n",
    "plt.title(\"Accuracy mean for all classes\")\n",
    "plt.xlabel(\"Epochs\")\n",
    "plt.ylabel(\"Accuracy mean\")"
   ]
  },
  {
   "cell_type": "code",
   "execution_count": 91,
   "id": "ebb0251d86dc3076",
   "metadata": {
    "ExecuteTime": {
     "end_time": "2024-03-20T23:10:16.910679Z",
     "start_time": "2024-03-20T23:10:16.836244Z"
    },
    "collapsed": false
   },
   "outputs": [
    {
     "data": {
      "image/png": "[encoded data removed]",
      "text/plain": [
       "<Figure size 640x480 with 2 Axes>"
      ]
     },
     "metadata": {},
     "output_type": "display_data"
    }
   ],
   "source": [
    "conf_matrix_val = confusion_matrix(val_dataset_classify.label, predicted_argmax_val)\n",
    "ConfusionMatrixDisplay(conf_matrix_val).plot()\n",
    "plt.show()"
   ]
  },
  {
   "cell_type": "code",
   "execution_count": 92,
   "id": "61734f42ad80fda",
   "metadata": {
    "ExecuteTime": {
     "end_time": "2024-03-20T23:10:16.915332Z",
     "start_time": "2024-03-20T23:10:16.911365Z"
    },
    "collapsed": false
   },
   "outputs": [
    {
     "data": {
      "text/plain": [
       "0.786921381337252"
      ]
     },
     "execution_count": 92,
     "metadata": {},
     "output_type": "execute_result"
    }
   ],
   "source": [
    "f1_score(val_dataset_classify.label, predicted_argmax_val, average=\"micro\")"
   ]
  },
  {
   "cell_type": "code",
   "execution_count": 177,
   "id": "5f38cd2d5e81d477",
   "metadata": {
    "ExecuteTime": {
     "end_time": "2024-03-20T23:10:16.917289Z",
     "start_time": "2024-03-20T23:10:16.915996Z"
    },
    "collapsed": false
   },
   "outputs": [],
   "source": []
  }
 ],
 "metadata": {
  "kernelspec": {
   "display_name": "Python 3",
   "language": "python",
   "name": "python3"
  },
  "language_info": {
   "codemirror_mode": {
    "name": "ipython",
    "version": 3
   },
   "file_extension": ".py",
   "mimetype": "text/x-python",
   "name": "python",
   "nbconvert_exporter": "python",
   "pygments_lexer": "ipython3",
   "version": "3.10.13"
  }
 },
 "nbformat": 4,
 "nbformat_minor": 5
}
