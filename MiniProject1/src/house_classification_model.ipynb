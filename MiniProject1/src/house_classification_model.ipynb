{
 "cells": [
  {
   "cell_type": "code",
   "execution_count": 183,
   "id": "initial_id",
   "metadata": {
    "collapsed": true,
    "ExecuteTime": {
     "end_time": "2024-03-18T20:25:02.983819Z",
     "start_time": "2024-03-18T20:25:02.895358Z"
    }
   },
   "outputs": [],
   "source": [
    "import torch\n",
    "import pandas as pd\n",
    "import torch.utils.data as data\n",
    "from sklearn.preprocessing import MinMaxScaler\n",
    "from typing import List\n",
    "from sklearn.model_selection import train_test_split"
   ]
  },
  {
   "cell_type": "code",
   "outputs": [],
   "source": [
    "train_data = pd.read_csv('../data/train_data.csv', index_col=0)"
   ],
   "metadata": {
    "collapsed": false,
    "ExecuteTime": {
     "end_time": "2024-03-18T20:25:03.024399Z",
     "start_time": "2024-03-18T20:25:03.015518Z"
    }
   },
   "id": "5493182c217c19a3",
   "execution_count": 184
  },
  {
   "cell_type": "code",
   "outputs": [
    {
     "data": {
      "text/plain": "           YearBuilt  Size(sqf)  Floor HallwayType         HeatingType  \\\nSalePrice                                                                \n141592          2006        814      3    terraced  individual_heating   \n51327           1985        587      8    corridor  individual_heating   \n48672           1985        587      6    corridor  individual_heating   \n380530          2006       2056      8    terraced  individual_heating   \n78318           1992        644      2       mixed  individual_heating   \n...              ...        ...    ...         ...                 ...   \n570796          2007       1928     24    terraced  individual_heating   \n307079          2015        644     22    terraced  individual_heating   \n357522          2007        868     20    terraced  individual_heating   \n312389          1978       1327      1    corridor  individual_heating   \n393805          2007        868     13    terraced  individual_heating   \n\n                 AptManageType  N_Parkinglot(Ground)  N_Parkinglot(Basement)  \\\nSalePrice                                                                      \n141592     management_in_trust                 111.0                   184.0   \n51327          self_management                  80.0                    76.0   \n48672          self_management                  80.0                    76.0   \n380530     management_in_trust                 249.0                   536.0   \n78318          self_management                 142.0                    79.0   \n...                        ...                   ...                     ...   \n570796     management_in_trust                   0.0                  1270.0   \n307079     management_in_trust                 102.0                   400.0   \n357522     management_in_trust                   0.0                  1270.0   \n312389         self_management                  87.0                     0.0   \n393805     management_in_trust                   0.0                  1270.0   \n\n          TimeToBusStop TimeToSubway  N_manager  N_elevators  \\\nSalePrice                                                      \n141592       5min~10min  10min~15min        3.0          0.0   \n51327            0~5min   5min~10min        2.0          2.0   \n48672            0~5min   5min~10min        2.0          2.0   \n380530           0~5min       0-5min        5.0         11.0   \n78318        5min~10min  15min~20min        4.0          8.0   \n...                 ...          ...        ...          ...   \n570796           0~5min       0-5min       14.0         16.0   \n307079           0~5min   5min~10min        5.0         10.0   \n357522           0~5min       0-5min       14.0         16.0   \n312389           0~5min       0-5min        1.0          4.0   \n393805           0~5min       0-5min       14.0         16.0   \n\n                   SubwayStation  N_FacilitiesInApt  \\\nSalePrice                                             \n141592     Kyungbuk_uni_hospital                  5   \n51327                      Daegu                  3   \n48672                      Daegu                  3   \n380530                   Sin-nam                  5   \n78318                  Myung-duk                  3   \n...                          ...                ...   \n570796     Kyungbuk_uni_hospital                 10   \n307079                     Daegu                  7   \n357522     Kyungbuk_uni_hospital                 10   \n312389     Kyungbuk_uni_hospital                  3   \n393805     Kyungbuk_uni_hospital                 10   \n\n           N_FacilitiesNearBy(Total)  N_SchoolNearBy(Total)  \nSalePrice                                                    \n141592                           6.0                    9.0  \n51327                           12.0                    4.0  \n48672                           12.0                    4.0  \n380530                           3.0                    7.0  \n78318                            9.0                   14.0  \n...                              ...                    ...  \n570796                           9.0                   10.0  \n307079                           7.0                   11.0  \n357522                           9.0                   10.0  \n312389                           7.0                   11.0  \n393805                           9.0                   10.0  \n\n[4124 rows x 16 columns]",
      "text/html": "<div>\n<style scoped>\n    .dataframe tbody tr th:only-of-type {\n        vertical-align: middle;\n    }\n\n    .dataframe tbody tr th {\n        vertical-align: top;\n    }\n\n    .dataframe thead th {\n        text-align: right;\n    }\n</style>\n<table border=\"1\" class=\"dataframe\">\n  <thead>\n    <tr style=\"text-align: right;\">\n      <th></th>\n      <th>YearBuilt</th>\n      <th>Size(sqf)</th>\n      <th>Floor</th>\n      <th>HallwayType</th>\n      <th>HeatingType</th>\n      <th>AptManageType</th>\n      <th>N_Parkinglot(Ground)</th>\n      <th>N_Parkinglot(Basement)</th>\n      <th>TimeToBusStop</th>\n      <th>TimeToSubway</th>\n      <th>N_manager</th>\n      <th>N_elevators</th>\n      <th>SubwayStation</th>\n      <th>N_FacilitiesInApt</th>\n      <th>N_FacilitiesNearBy(Total)</th>\n      <th>N_SchoolNearBy(Total)</th>\n    </tr>\n    <tr>\n      <th>SalePrice</th>\n      <th></th>\n      <th></th>\n      <th></th>\n      <th></th>\n      <th></th>\n      <th></th>\n      <th></th>\n      <th></th>\n      <th></th>\n      <th></th>\n      <th></th>\n      <th></th>\n      <th></th>\n      <th></th>\n      <th></th>\n      <th></th>\n    </tr>\n  </thead>\n  <tbody>\n    <tr>\n      <th>141592</th>\n      <td>2006</td>\n      <td>814</td>\n      <td>3</td>\n      <td>terraced</td>\n      <td>individual_heating</td>\n      <td>management_in_trust</td>\n      <td>111.0</td>\n      <td>184.0</td>\n      <td>5min~10min</td>\n      <td>10min~15min</td>\n      <td>3.0</td>\n      <td>0.0</td>\n      <td>Kyungbuk_uni_hospital</td>\n      <td>5</td>\n      <td>6.0</td>\n      <td>9.0</td>\n    </tr>\n    <tr>\n      <th>51327</th>\n      <td>1985</td>\n      <td>587</td>\n      <td>8</td>\n      <td>corridor</td>\n      <td>individual_heating</td>\n      <td>self_management</td>\n      <td>80.0</td>\n      <td>76.0</td>\n      <td>0~5min</td>\n      <td>5min~10min</td>\n      <td>2.0</td>\n      <td>2.0</td>\n      <td>Daegu</td>\n      <td>3</td>\n      <td>12.0</td>\n      <td>4.0</td>\n    </tr>\n    <tr>\n      <th>48672</th>\n      <td>1985</td>\n      <td>587</td>\n      <td>6</td>\n      <td>corridor</td>\n      <td>individual_heating</td>\n      <td>self_management</td>\n      <td>80.0</td>\n      <td>76.0</td>\n      <td>0~5min</td>\n      <td>5min~10min</td>\n      <td>2.0</td>\n      <td>2.0</td>\n      <td>Daegu</td>\n      <td>3</td>\n      <td>12.0</td>\n      <td>4.0</td>\n    </tr>\n    <tr>\n      <th>380530</th>\n      <td>2006</td>\n      <td>2056</td>\n      <td>8</td>\n      <td>terraced</td>\n      <td>individual_heating</td>\n      <td>management_in_trust</td>\n      <td>249.0</td>\n      <td>536.0</td>\n      <td>0~5min</td>\n      <td>0-5min</td>\n      <td>5.0</td>\n      <td>11.0</td>\n      <td>Sin-nam</td>\n      <td>5</td>\n      <td>3.0</td>\n      <td>7.0</td>\n    </tr>\n    <tr>\n      <th>78318</th>\n      <td>1992</td>\n      <td>644</td>\n      <td>2</td>\n      <td>mixed</td>\n      <td>individual_heating</td>\n      <td>self_management</td>\n      <td>142.0</td>\n      <td>79.0</td>\n      <td>5min~10min</td>\n      <td>15min~20min</td>\n      <td>4.0</td>\n      <td>8.0</td>\n      <td>Myung-duk</td>\n      <td>3</td>\n      <td>9.0</td>\n      <td>14.0</td>\n    </tr>\n    <tr>\n      <th>...</th>\n      <td>...</td>\n      <td>...</td>\n      <td>...</td>\n      <td>...</td>\n      <td>...</td>\n      <td>...</td>\n      <td>...</td>\n      <td>...</td>\n      <td>...</td>\n      <td>...</td>\n      <td>...</td>\n      <td>...</td>\n      <td>...</td>\n      <td>...</td>\n      <td>...</td>\n      <td>...</td>\n    </tr>\n    <tr>\n      <th>570796</th>\n      <td>2007</td>\n      <td>1928</td>\n      <td>24</td>\n      <td>terraced</td>\n      <td>individual_heating</td>\n      <td>management_in_trust</td>\n      <td>0.0</td>\n      <td>1270.0</td>\n      <td>0~5min</td>\n      <td>0-5min</td>\n      <td>14.0</td>\n      <td>16.0</td>\n      <td>Kyungbuk_uni_hospital</td>\n      <td>10</td>\n      <td>9.0</td>\n      <td>10.0</td>\n    </tr>\n    <tr>\n      <th>307079</th>\n      <td>2015</td>\n      <td>644</td>\n      <td>22</td>\n      <td>terraced</td>\n      <td>individual_heating</td>\n      <td>management_in_trust</td>\n      <td>102.0</td>\n      <td>400.0</td>\n      <td>0~5min</td>\n      <td>5min~10min</td>\n      <td>5.0</td>\n      <td>10.0</td>\n      <td>Daegu</td>\n      <td>7</td>\n      <td>7.0</td>\n      <td>11.0</td>\n    </tr>\n    <tr>\n      <th>357522</th>\n      <td>2007</td>\n      <td>868</td>\n      <td>20</td>\n      <td>terraced</td>\n      <td>individual_heating</td>\n      <td>management_in_trust</td>\n      <td>0.0</td>\n      <td>1270.0</td>\n      <td>0~5min</td>\n      <td>0-5min</td>\n      <td>14.0</td>\n      <td>16.0</td>\n      <td>Kyungbuk_uni_hospital</td>\n      <td>10</td>\n      <td>9.0</td>\n      <td>10.0</td>\n    </tr>\n    <tr>\n      <th>312389</th>\n      <td>1978</td>\n      <td>1327</td>\n      <td>1</td>\n      <td>corridor</td>\n      <td>individual_heating</td>\n      <td>self_management</td>\n      <td>87.0</td>\n      <td>0.0</td>\n      <td>0~5min</td>\n      <td>0-5min</td>\n      <td>1.0</td>\n      <td>4.0</td>\n      <td>Kyungbuk_uni_hospital</td>\n      <td>3</td>\n      <td>7.0</td>\n      <td>11.0</td>\n    </tr>\n    <tr>\n      <th>393805</th>\n      <td>2007</td>\n      <td>868</td>\n      <td>13</td>\n      <td>terraced</td>\n      <td>individual_heating</td>\n      <td>management_in_trust</td>\n      <td>0.0</td>\n      <td>1270.0</td>\n      <td>0~5min</td>\n      <td>0-5min</td>\n      <td>14.0</td>\n      <td>16.0</td>\n      <td>Kyungbuk_uni_hospital</td>\n      <td>10</td>\n      <td>9.0</td>\n      <td>10.0</td>\n    </tr>\n  </tbody>\n</table>\n<p>4124 rows × 16 columns</p>\n</div>"
     },
     "execution_count": 185,
     "metadata": {},
     "output_type": "execute_result"
    }
   ],
   "source": [
    "train_data"
   ],
   "metadata": {
    "collapsed": false,
    "ExecuteTime": {
     "end_time": "2024-03-18T20:25:03.172307Z",
     "start_time": "2024-03-18T20:25:03.164545Z"
    }
   },
   "id": "855135e87da7fb50",
   "execution_count": 185
  },
  {
   "cell_type": "markdown",
   "source": [
    "# Display number of unique elements in each column"
   ],
   "metadata": {
    "collapsed": false
   },
   "id": "d2a9f6a7300eb121"
  },
  {
   "cell_type": "code",
   "outputs": [
    {
     "name": "stdout",
     "output_type": "stream",
     "text": [
      "Number of unique rows in YearBuilt: 16\n",
      "Number of unique rows in Size(sqf): 89\n",
      "Number of unique rows in Floor: 43\n",
      "Number of unique rows in HallwayType: 3\n",
      "Number of unique rows in HeatingType: 2\n",
      "Number of unique rows in AptManageType: 2\n",
      "Number of unique rows in N_Parkinglot(Ground): 23\n",
      "Number of unique rows in N_Parkinglot(Basement): 20\n",
      "Number of unique rows in TimeToBusStop: 3\n",
      "Number of unique rows in TimeToSubway: 5\n",
      "Number of unique rows in N_manager: 9\n",
      "Number of unique rows in N_elevators: 13\n",
      "Number of unique rows in SubwayStation: 8\n",
      "Number of unique rows in N_FacilitiesInApt: 9\n",
      "Number of unique rows in N_FacilitiesNearBy(Total): 11\n",
      "Number of unique rows in N_SchoolNearBy(Total): 14\n"
     ]
    }
   ],
   "source": [
    "for column in train_data.columns:\n",
    "    print(f\"Number of unique rows in {column}: {train_data[column].nunique()}\")\n"
   ],
   "metadata": {
    "collapsed": false,
    "ExecuteTime": {
     "end_time": "2024-03-18T20:25:03.475836Z",
     "start_time": "2024-03-18T20:25:03.471760Z"
    }
   },
   "id": "26510c4826a9e880",
   "execution_count": 186
  },
  {
   "cell_type": "code",
   "outputs": [],
   "source": [
    "COLUMNS_TO_DUMMY = [\"HeatingType\",\"AptManageType\", \"HallwayType\",\"TimeToBusStop\",\"TimeToSubway\",\"SubwayStation\"]\n",
    "OUTPUT_COLUMN = \"SalePrice\""
   ],
   "metadata": {
    "collapsed": false,
    "ExecuteTime": {
     "end_time": "2024-03-18T20:25:03.562981Z",
     "start_time": "2024-03-18T20:25:03.561026Z"
    }
   },
   "id": "d3888b1c4fe9b4f2",
   "execution_count": 187
  },
  {
   "cell_type": "code",
   "outputs": [],
   "source": [
    "class HouseDataset(data.Dataset):\n",
    "    def __init__(self, path_to_csv: str, scaler = None) -> None:\n",
    "        super().__init__()\n",
    "        self.data = pd.read_csv(path_to_csv)\n",
    "        self.scaler = scaler\n",
    "        self.label = torch.tensor(self.data.iloc[:,0].values, dtype=torch.float32)\n",
    "        self._prepare_data()\n",
    "        self.data = torch.tensor(self.data.iloc[:,1:].values, dtype=torch.float32)\n",
    "        self.size = self.data.shape[0]\n",
    "    \n",
    "    def __len__(self) -> int:\n",
    "        return self.size\n",
    "    \n",
    "    def __getitem__(self, idx) -> tuple[torch.tensor, torch.tensor]:\n",
    "        data_point = self.data[idx]\n",
    "        data_label = self.label[idx]\n",
    "        return data_point, data_label\n",
    "    def _to_dummy_columns(self, columns: List[str]) -> pd.DataFrame:\n",
    "        dummy_columns = pd.get_dummies(self.data, columns=columns).astype(float)\n",
    "        return dummy_columns\n",
    "    \n",
    "    def get_non_dummy_columns(self) -> List[str]:\n",
    "        return [column for column in self.data.columns if column not in COLUMS_TO_DUMMY]\n",
    "    \n",
    "    def _scale_data(self) -> None:\n",
    "        for column in self.data:\n",
    "            if column not in COLUMS_TO_DUMMY or column != OUTPUT_COLUMN:\n",
    "                self.data[column] = self.scaler.fit_transform(self.data[column].values.reshape(-1, 1))\n",
    "        \n",
    "    def _prepare_data(self) -> None:\n",
    "        self.data = self._to_dummy_columns(columns=COLUMS_TO_DUMMY)\n",
    "        if self.scaler:\n",
    "            self._scale_data()\n",
    "    \n",
    "    def get_data_as_pandas(self) -> tuple[pd.DataFrame, pd.DataFrame]:\n",
    "        data = pd.DataFrame(self.data.numpy())\n",
    "        labels = pd.DataFrame(self.label.numpy())\n",
    "        return data, labels\n",
    "        \n",
    "        \n",
    "        "
   ],
   "metadata": {
    "collapsed": false,
    "ExecuteTime": {
     "end_time": "2024-03-18T20:25:03.690980Z",
     "start_time": "2024-03-18T20:25:03.686561Z"
    }
   },
   "id": "aaac966b2ab666ba",
   "execution_count": 188
  },
  {
   "cell_type": "code",
   "outputs": [],
   "source": [
    "path = '../data/train_data.csv'\n",
    "scaler = MinMaxScaler()\n",
    "train_dataset = HouseDataset(path, scaler)"
   ],
   "metadata": {
    "collapsed": false,
    "ExecuteTime": {
     "end_time": "2024-03-18T20:25:03.829607Z",
     "start_time": "2024-03-18T20:25:03.810895Z"
    }
   },
   "id": "87dd66997ea17da7",
   "execution_count": 189
  },
  {
   "cell_type": "code",
   "outputs": [],
   "source": [
    "train_data, train_labels = train_dataset.get_data_as_pandas()"
   ],
   "metadata": {
    "collapsed": false,
    "ExecuteTime": {
     "end_time": "2024-03-18T20:25:03.917349Z",
     "start_time": "2024-03-18T20:25:03.913669Z"
    }
   },
   "id": "6e1407ea11b2fece",
   "execution_count": 190
  },
  {
   "cell_type": "code",
   "outputs": [
    {
     "data": {
      "text/plain": "             0\n0     141592.0\n1      51327.0\n2      48672.0\n3     380530.0\n4      78318.0\n...        ...\n4119  570796.0\n4120  307079.0\n4121  357522.0\n4122  312389.0\n4123  393805.0\n\n[4124 rows x 1 columns]",
      "text/html": "<div>\n<style scoped>\n    .dataframe tbody tr th:only-of-type {\n        vertical-align: middle;\n    }\n\n    .dataframe tbody tr th {\n        vertical-align: top;\n    }\n\n    .dataframe thead th {\n        text-align: right;\n    }\n</style>\n<table border=\"1\" class=\"dataframe\">\n  <thead>\n    <tr style=\"text-align: right;\">\n      <th></th>\n      <th>0</th>\n    </tr>\n  </thead>\n  <tbody>\n    <tr>\n      <th>0</th>\n      <td>141592.0</td>\n    </tr>\n    <tr>\n      <th>1</th>\n      <td>51327.0</td>\n    </tr>\n    <tr>\n      <th>2</th>\n      <td>48672.0</td>\n    </tr>\n    <tr>\n      <th>3</th>\n      <td>380530.0</td>\n    </tr>\n    <tr>\n      <th>4</th>\n      <td>78318.0</td>\n    </tr>\n    <tr>\n      <th>...</th>\n      <td>...</td>\n    </tr>\n    <tr>\n      <th>4119</th>\n      <td>570796.0</td>\n    </tr>\n    <tr>\n      <th>4120</th>\n      <td>307079.0</td>\n    </tr>\n    <tr>\n      <th>4121</th>\n      <td>357522.0</td>\n    </tr>\n    <tr>\n      <th>4122</th>\n      <td>312389.0</td>\n    </tr>\n    <tr>\n      <th>4123</th>\n      <td>393805.0</td>\n    </tr>\n  </tbody>\n</table>\n<p>4124 rows × 1 columns</p>\n</div>"
     },
     "execution_count": 191,
     "metadata": {},
     "output_type": "execute_result"
    }
   ],
   "source": [
    "train_labels"
   ],
   "metadata": {
    "collapsed": false,
    "ExecuteTime": {
     "end_time": "2024-03-18T20:25:04.049185Z",
     "start_time": "2024-03-18T20:25:04.045716Z"
    }
   },
   "id": "bd2a3ee06fb44c64",
   "execution_count": 191
  },
  {
   "cell_type": "code",
   "outputs": [
    {
     "data": {
      "text/plain": "            0         1         2         3         4         5         6   \\\n0     0.756757  0.308356  0.047619  0.155680  0.139288  0.153846  0.000000   \n1     0.189189  0.205268  0.166667  0.112202  0.057532  0.076923  0.074074   \n2     0.189189  0.205268  0.119048  0.112202  0.057532  0.076923  0.074074   \n3     0.756757  0.872389  0.166667  0.349229  0.405753  0.307692  0.407407   \n4     0.378378  0.231154  0.023810  0.199158  0.059803  0.230769  0.296296   \n...        ...       ...       ...       ...       ...       ...       ...   \n4119  0.783784  0.814260  0.547619  0.000000  0.961393  1.000000  0.592593   \n4120  1.000000  0.231154  0.500000  0.143058  0.302801  0.307692  0.370370   \n4121  0.783784  0.332879  0.452381  0.000000  0.961393  1.000000  0.592593   \n4122  0.000000  0.541326  0.000000  0.122020  0.000000  0.000000  0.148148   \n4123  0.783784  0.332879  0.285714  0.000000  0.961393  1.000000  0.592593   \n\n            7       8         9   ...   23   24   25   26   27   28   29   30  \\\n0     0.444444  0.3750  0.529412  ...  0.0  0.0  0.0  0.0  0.0  0.0  1.0  0.0   \n1     0.222222  0.7500  0.235294  ...  1.0  0.0  0.0  0.0  0.0  1.0  0.0  0.0   \n2     0.222222  0.7500  0.235294  ...  1.0  0.0  0.0  0.0  0.0  1.0  0.0  0.0   \n3     0.444444  0.1875  0.411765  ...  0.0  0.0  0.0  0.0  0.0  0.0  0.0  0.0   \n4     0.222222  0.5625  0.823529  ...  0.0  0.0  0.0  0.0  0.0  0.0  0.0  1.0   \n...        ...     ...       ...  ...  ...  ...  ...  ...  ...  ...  ...  ...   \n4119  1.000000  0.5625  0.588235  ...  0.0  0.0  0.0  0.0  0.0  0.0  1.0  0.0   \n4120  0.666667  0.4375  0.647059  ...  1.0  0.0  0.0  0.0  0.0  1.0  0.0  0.0   \n4121  1.000000  0.5625  0.588235  ...  0.0  0.0  0.0  0.0  0.0  0.0  1.0  0.0   \n4122  0.222222  0.4375  0.647059  ...  0.0  0.0  0.0  0.0  0.0  0.0  1.0  0.0   \n4123  1.000000  0.5625  0.588235  ...  0.0  0.0  0.0  0.0  0.0  0.0  1.0  0.0   \n\n       31   32  \n0     0.0  0.0  \n1     0.0  0.0  \n2     0.0  0.0  \n3     1.0  0.0  \n4     0.0  0.0  \n...   ...  ...  \n4119  0.0  0.0  \n4120  0.0  0.0  \n4121  0.0  0.0  \n4122  0.0  0.0  \n4123  0.0  0.0  \n\n[4124 rows x 33 columns]",
      "text/html": "<div>\n<style scoped>\n    .dataframe tbody tr th:only-of-type {\n        vertical-align: middle;\n    }\n\n    .dataframe tbody tr th {\n        vertical-align: top;\n    }\n\n    .dataframe thead th {\n        text-align: right;\n    }\n</style>\n<table border=\"1\" class=\"dataframe\">\n  <thead>\n    <tr style=\"text-align: right;\">\n      <th></th>\n      <th>0</th>\n      <th>1</th>\n      <th>2</th>\n      <th>3</th>\n      <th>4</th>\n      <th>5</th>\n      <th>6</th>\n      <th>7</th>\n      <th>8</th>\n      <th>9</th>\n      <th>...</th>\n      <th>23</th>\n      <th>24</th>\n      <th>25</th>\n      <th>26</th>\n      <th>27</th>\n      <th>28</th>\n      <th>29</th>\n      <th>30</th>\n      <th>31</th>\n      <th>32</th>\n    </tr>\n  </thead>\n  <tbody>\n    <tr>\n      <th>0</th>\n      <td>0.756757</td>\n      <td>0.308356</td>\n      <td>0.047619</td>\n      <td>0.155680</td>\n      <td>0.139288</td>\n      <td>0.153846</td>\n      <td>0.000000</td>\n      <td>0.444444</td>\n      <td>0.3750</td>\n      <td>0.529412</td>\n      <td>...</td>\n      <td>0.0</td>\n      <td>0.0</td>\n      <td>0.0</td>\n      <td>0.0</td>\n      <td>0.0</td>\n      <td>0.0</td>\n      <td>1.0</td>\n      <td>0.0</td>\n      <td>0.0</td>\n      <td>0.0</td>\n    </tr>\n    <tr>\n      <th>1</th>\n      <td>0.189189</td>\n      <td>0.205268</td>\n      <td>0.166667</td>\n      <td>0.112202</td>\n      <td>0.057532</td>\n      <td>0.076923</td>\n      <td>0.074074</td>\n      <td>0.222222</td>\n      <td>0.7500</td>\n      <td>0.235294</td>\n      <td>...</td>\n      <td>1.0</td>\n      <td>0.0</td>\n      <td>0.0</td>\n      <td>0.0</td>\n      <td>0.0</td>\n      <td>1.0</td>\n      <td>0.0</td>\n      <td>0.0</td>\n      <td>0.0</td>\n      <td>0.0</td>\n    </tr>\n    <tr>\n      <th>2</th>\n      <td>0.189189</td>\n      <td>0.205268</td>\n      <td>0.119048</td>\n      <td>0.112202</td>\n      <td>0.057532</td>\n      <td>0.076923</td>\n      <td>0.074074</td>\n      <td>0.222222</td>\n      <td>0.7500</td>\n      <td>0.235294</td>\n      <td>...</td>\n      <td>1.0</td>\n      <td>0.0</td>\n      <td>0.0</td>\n      <td>0.0</td>\n      <td>0.0</td>\n      <td>1.0</td>\n      <td>0.0</td>\n      <td>0.0</td>\n      <td>0.0</td>\n      <td>0.0</td>\n    </tr>\n    <tr>\n      <th>3</th>\n      <td>0.756757</td>\n      <td>0.872389</td>\n      <td>0.166667</td>\n      <td>0.349229</td>\n      <td>0.405753</td>\n      <td>0.307692</td>\n      <td>0.407407</td>\n      <td>0.444444</td>\n      <td>0.1875</td>\n      <td>0.411765</td>\n      <td>...</td>\n      <td>0.0</td>\n      <td>0.0</td>\n      <td>0.0</td>\n      <td>0.0</td>\n      <td>0.0</td>\n      <td>0.0</td>\n      <td>0.0</td>\n      <td>0.0</td>\n      <td>1.0</td>\n      <td>0.0</td>\n    </tr>\n    <tr>\n      <th>4</th>\n      <td>0.378378</td>\n      <td>0.231154</td>\n      <td>0.023810</td>\n      <td>0.199158</td>\n      <td>0.059803</td>\n      <td>0.230769</td>\n      <td>0.296296</td>\n      <td>0.222222</td>\n      <td>0.5625</td>\n      <td>0.823529</td>\n      <td>...</td>\n      <td>0.0</td>\n      <td>0.0</td>\n      <td>0.0</td>\n      <td>0.0</td>\n      <td>0.0</td>\n      <td>0.0</td>\n      <td>0.0</td>\n      <td>1.0</td>\n      <td>0.0</td>\n      <td>0.0</td>\n    </tr>\n    <tr>\n      <th>...</th>\n      <td>...</td>\n      <td>...</td>\n      <td>...</td>\n      <td>...</td>\n      <td>...</td>\n      <td>...</td>\n      <td>...</td>\n      <td>...</td>\n      <td>...</td>\n      <td>...</td>\n      <td>...</td>\n      <td>...</td>\n      <td>...</td>\n      <td>...</td>\n      <td>...</td>\n      <td>...</td>\n      <td>...</td>\n      <td>...</td>\n      <td>...</td>\n      <td>...</td>\n      <td>...</td>\n    </tr>\n    <tr>\n      <th>4119</th>\n      <td>0.783784</td>\n      <td>0.814260</td>\n      <td>0.547619</td>\n      <td>0.000000</td>\n      <td>0.961393</td>\n      <td>1.000000</td>\n      <td>0.592593</td>\n      <td>1.000000</td>\n      <td>0.5625</td>\n      <td>0.588235</td>\n      <td>...</td>\n      <td>0.0</td>\n      <td>0.0</td>\n      <td>0.0</td>\n      <td>0.0</td>\n      <td>0.0</td>\n      <td>0.0</td>\n      <td>1.0</td>\n      <td>0.0</td>\n      <td>0.0</td>\n      <td>0.0</td>\n    </tr>\n    <tr>\n      <th>4120</th>\n      <td>1.000000</td>\n      <td>0.231154</td>\n      <td>0.500000</td>\n      <td>0.143058</td>\n      <td>0.302801</td>\n      <td>0.307692</td>\n      <td>0.370370</td>\n      <td>0.666667</td>\n      <td>0.4375</td>\n      <td>0.647059</td>\n      <td>...</td>\n      <td>1.0</td>\n      <td>0.0</td>\n      <td>0.0</td>\n      <td>0.0</td>\n      <td>0.0</td>\n      <td>1.0</td>\n      <td>0.0</td>\n      <td>0.0</td>\n      <td>0.0</td>\n      <td>0.0</td>\n    </tr>\n    <tr>\n      <th>4121</th>\n      <td>0.783784</td>\n      <td>0.332879</td>\n      <td>0.452381</td>\n      <td>0.000000</td>\n      <td>0.961393</td>\n      <td>1.000000</td>\n      <td>0.592593</td>\n      <td>1.000000</td>\n      <td>0.5625</td>\n      <td>0.588235</td>\n      <td>...</td>\n      <td>0.0</td>\n      <td>0.0</td>\n      <td>0.0</td>\n      <td>0.0</td>\n      <td>0.0</td>\n      <td>0.0</td>\n      <td>1.0</td>\n      <td>0.0</td>\n      <td>0.0</td>\n      <td>0.0</td>\n    </tr>\n    <tr>\n      <th>4122</th>\n      <td>0.000000</td>\n      <td>0.541326</td>\n      <td>0.000000</td>\n      <td>0.122020</td>\n      <td>0.000000</td>\n      <td>0.000000</td>\n      <td>0.148148</td>\n      <td>0.222222</td>\n      <td>0.4375</td>\n      <td>0.647059</td>\n      <td>...</td>\n      <td>0.0</td>\n      <td>0.0</td>\n      <td>0.0</td>\n      <td>0.0</td>\n      <td>0.0</td>\n      <td>0.0</td>\n      <td>1.0</td>\n      <td>0.0</td>\n      <td>0.0</td>\n      <td>0.0</td>\n    </tr>\n    <tr>\n      <th>4123</th>\n      <td>0.783784</td>\n      <td>0.332879</td>\n      <td>0.285714</td>\n      <td>0.000000</td>\n      <td>0.961393</td>\n      <td>1.000000</td>\n      <td>0.592593</td>\n      <td>1.000000</td>\n      <td>0.5625</td>\n      <td>0.588235</td>\n      <td>...</td>\n      <td>0.0</td>\n      <td>0.0</td>\n      <td>0.0</td>\n      <td>0.0</td>\n      <td>0.0</td>\n      <td>0.0</td>\n      <td>1.0</td>\n      <td>0.0</td>\n      <td>0.0</td>\n      <td>0.0</td>\n    </tr>\n  </tbody>\n</table>\n<p>4124 rows × 33 columns</p>\n</div>"
     },
     "execution_count": 192,
     "metadata": {},
     "output_type": "execute_result"
    }
   ],
   "source": [
    "train_data"
   ],
   "metadata": {
    "collapsed": false,
    "ExecuteTime": {
     "end_time": "2024-03-18T20:25:04.191242Z",
     "start_time": "2024-03-18T20:25:04.181038Z"
    }
   },
   "id": "c881f9ec33ea22e",
   "execution_count": 192
  },
  {
   "cell_type": "code",
   "outputs": [],
   "source": [
    "path = '../data/train_data.csv'\n",
    "scaler = MinMaxScaler()\n",
    "train_dataset = HouseDataset(path, scaler)"
   ],
   "metadata": {
    "collapsed": false,
    "ExecuteTime": {
     "end_time": "2024-03-18T20:25:04.332205Z",
     "start_time": "2024-03-18T20:25:04.315362Z"
    }
   },
   "id": "ab27d825805887d3",
   "execution_count": 193
  },
  {
   "cell_type": "markdown",
   "source": [
    "# Split the data into training and validation sets"
   ],
   "metadata": {
    "collapsed": false
   },
   "id": "5517da26af05695c"
  },
  {
   "cell_type": "code",
   "outputs": [],
   "source": [
    "X_train, X_test, y_train, y_test = train_test_split(train_dataset.data, train_dataset.label, test_size=0.2, random_state=42)\n",
    "train_data = data.TensorDataset(X_train, y_train)\n",
    "validation_data = data.TensorDataset(X_test, y_test)"
   ],
   "metadata": {
    "collapsed": false,
    "ExecuteTime": {
     "end_time": "2024-03-18T20:28:18.627119Z",
     "start_time": "2024-03-18T20:28:18.617012Z"
    }
   },
   "id": "1bbaf18b514576f7",
   "execution_count": 194
  },
  {
   "cell_type": "markdown",
   "source": [
    "# Create the data loaders"
   ],
   "metadata": {
    "collapsed": false
   },
   "id": "ca7ce8fb6c8bb6ee"
  },
  {
   "cell_type": "code",
   "outputs": [],
   "source": [
    "batch_size = 32\n",
    "train_loader = data.DataLoader(train_dataset, batch_size=batch_size, shuffle=True)\n",
    "validation_loader = data.DataLoader(train_dataset, batch_size=batch_size, shuffle=True)"
   ],
   "metadata": {
    "collapsed": false,
    "ExecuteTime": {
     "end_time": "2024-03-18T20:28:19.988230Z",
     "start_time": "2024-03-18T20:28:19.984448Z"
    }
   },
   "id": "2c54624c22b6598",
   "execution_count": 195
  },
  {
   "cell_type": "code",
   "outputs": [
    {
     "name": "stdout",
     "output_type": "stream",
     "text": [
      "tensor([[0.7297, 0.3538, 0.4762,  ..., 0.0000, 0.0000, 0.0000],\n",
      "        [0.4054, 0.2312, 0.2381,  ..., 1.0000, 0.0000, 0.0000],\n",
      "        [0.7838, 0.6848, 0.7143,  ..., 0.0000, 0.0000, 0.0000],\n",
      "        ...,\n",
      "        [0.7568, 0.3488, 0.1905,  ..., 1.0000, 0.0000, 0.0000],\n",
      "        [0.9459, 0.2312, 0.4286,  ..., 0.0000, 0.0000, 0.0000],\n",
      "        [0.5135, 0.1921, 0.2143,  ..., 0.0000, 0.0000, 0.0000]]) tensor([303539., 101327., 486725., 358407., 432743., 330088.,  92920., 182300.,\n",
      "        448672., 128318., 427610., 199115., 243362., 131858., 110619., 253097.,\n",
      "        297787., 358407.,  72566., 148707., 267256., 237168., 103663., 154867.,\n",
      "        125663., 196460., 389380., 308849.,  39823., 210619., 150778.,  70796.])\n"
     ]
    }
   ],
   "source": [
    "for data, label in train_loader:\n",
    "    print(data, label)"
   ],
   "metadata": {
    "collapsed": false,
    "ExecuteTime": {
     "end_time": "2024-03-18T20:28:24.383155Z",
     "start_time": "2024-03-18T20:28:24.370648Z"
    }
   },
   "id": "80ad91b8cd3a10e5",
   "execution_count": 196
  },
  {
   "cell_type": "code",
   "outputs": [],
   "source": [],
   "metadata": {
    "collapsed": false
   },
   "id": "e7002889a3cbc9bf"
  }
 ],
 "metadata": {
  "kernelspec": {
   "display_name": "Python 3",
   "language": "python",
   "name": "python3"
  },
  "language_info": {
   "codemirror_mode": {
    "name": "ipython",
    "version": 2
   },
   "file_extension": ".py",
   "mimetype": "text/x-python",
   "name": "python",
   "nbconvert_exporter": "python",
   "pygments_lexer": "ipython2",
   "version": "2.7.6"
  }
 },
 "nbformat": 4,
 "nbformat_minor": 5
}
