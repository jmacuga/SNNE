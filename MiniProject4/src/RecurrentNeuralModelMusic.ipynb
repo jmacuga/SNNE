{
 "cells": [
  {
   "cell_type": "code",
   "execution_count": 1,
   "id": "59f13d34",
   "metadata": {},
   "outputs": [
    {
     "name": "stdout",
     "output_type": "stream",
     "text": [
      "\u001b[H\u001b[2J"
     ]
    }
   ],
   "source": [
    "%clear"
   ]
  },
  {
   "cell_type": "code",
   "execution_count": 1,
   "id": "initial_id",
   "metadata": {
    "collapsed": true,
    "jupyter": {
     "is_executing": true
    }
   },
   "outputs": [],
   "source": [
    "import matplotlib.pyplot as plt\n",
    "import torch\n",
    "import torch.nn as nn\n",
    "import pickle\n",
    "from torchvision import datasets\n",
    "from torch.utils.data import Dataset, DataLoader, TensorDataset\n",
    "import torch.utils.data\n",
    "import pandas as pd\n",
    "from sklearn.preprocessing import StandardScaler\n",
    "from sklearn.model_selection import train_test_split\n",
    "from tqdm import tqdm\n",
    "import numpy as np\n",
    "from torch.nn.utils.rnn import pad_sequence, pack_padded_sequence, pad_packed_sequence\n",
    "from sklearn.metrics import f1_score, confusion_matrix, ConfusionMatrixDisplay\n",
    "from torchmetrics.classification import MulticlassAccuracy"
   ]
  },
  {
   "cell_type": "code",
   "execution_count": 2,
   "id": "681887c5c02ef1ec",
   "metadata": {},
   "outputs": [],
   "source": [
    "with open(\"../data/train.pkl\", \"rb\") as f:\n",
    "    train_data = pickle.load(f)"
   ]
  },
  {
   "cell_type": "code",
   "execution_count": 3,
   "id": "81b007f6",
   "metadata": {},
   "outputs": [
    {
     "data": {
      "text/plain": [
       "device(type='cuda')"
      ]
     },
     "execution_count": 3,
     "metadata": {},
     "output_type": "execute_result"
    }
   ],
   "source": [
    "device = torch.device(\"cuda\" if torch.cuda.is_available() else \"cpu\")\n",
    "device"
   ]
  },
  {
   "cell_type": "code",
   "execution_count": 4,
   "id": "72231d30",
   "metadata": {},
   "outputs": [],
   "source": [
    "df = pd.DataFrame(train_data, columns = [\"Sequence\", \"Author\"])"
   ]
  },
  {
   "cell_type": "code",
   "execution_count": 5,
   "id": "58899f54",
   "metadata": {},
   "outputs": [
    {
     "data": {
      "text/plain": [
       "Author\n",
       "0    1630\n",
       "1     478\n",
       "3     441\n",
       "4     236\n",
       "2     154\n",
       "Name: count, dtype: int64"
      ]
     },
     "execution_count": 5,
     "metadata": {},
     "output_type": "execute_result"
    }
   ],
   "source": [
    "df[\"Author\"].value_counts()"
   ]
  },
  {
   "cell_type": "code",
   "execution_count": 6,
   "id": "bf0f31c9",
   "metadata": {},
   "outputs": [],
   "source": [
    "class MusicDataset(Dataset):\n",
    "    def __init__(self, X, y):\n",
    "        self.X = [torch.tensor(x, dtype=torch.float32) for x in X]\n",
    "        self.y = torch.tensor(y.values, dtype=torch.long)\n",
    "\n",
    "    def __getitem__(self, idx):\n",
    "        return self.X[idx], self.y[idx]\n",
    "\n",
    "    def __len__(self):\n",
    "        return len(self.X)"
   ]
  },
  {
   "cell_type": "code",
   "execution_count": 7,
   "id": "80eecf10",
   "metadata": {},
   "outputs": [],
   "source": [
    "scaler = StandardScaler()"
   ]
  },
  {
   "cell_type": "code",
   "execution_count": 8,
   "id": "67436955",
   "metadata": {},
   "outputs": [],
   "source": [
    "X_train, X_test, y_train, y_test = train_test_split(df[\"Sequence\"], df[\"Author\"], test_size = 0.2, random_state = 42)"
   ]
  },
  {
   "cell_type": "code",
   "execution_count": 9,
   "id": "3902d4d9",
   "metadata": {},
   "outputs": [
    {
     "data": {
      "text/plain": [
       "456     [80.0, 80.0, 80.0, 158.0, 92.0, 92.0, 93.0, 12...\n",
       "462     [0.0, 47.0, 47.0, 157.0, 28.0, 28.0, 12.0, 0.0...\n",
       "2216    [-1.0, -1.0, -1.0, 0.0, 12.0, 125.0, 12.0, 12....\n",
       "2668    [144.0, 144.0, 34.0, 68.0, 20.0, 32.0, 146.0, ...\n",
       "381     [64.0, 64.0, 92.0, 159.0, 28.0, 47.0, 78.0, 64...\n",
       "                              ...                        \n",
       "1638    [-1.0, -1.0, 112.0, 0.0, 0.0, 117.0, 12.0, 12....\n",
       "1095    [0.0, 82.0, 148.0, 148.0, 132.0, 3.0, 6.0, 8.0...\n",
       "1130    [-1.0, -1.0, -1.0, 0.0, 5.0, 13.0, 78.0, 12.0,...\n",
       "1294    [12.0, 12.0, 12.0, 12.0, 47.0, 44.0, 44.0, 44....\n",
       "860     [-1.0, -1.0, 0.0, 0.0, 0.0, 13.0, 172.0, 92.0,...\n",
       "Name: Sequence, Length: 2351, dtype: object"
      ]
     },
     "execution_count": 9,
     "metadata": {},
     "output_type": "execute_result"
    }
   ],
   "source": [
    "X_train"
   ]
  },
  {
   "cell_type": "code",
   "execution_count": 10,
   "id": "28962591",
   "metadata": {},
   "outputs": [],
   "source": [
    "train_dataset = pd.concat([X_train, y_train], axis =1)\n",
    "v_dataset = pd.concat([X_test, y_test], axis = 1)"
   ]
  },
  {
   "cell_type": "code",
   "execution_count": 11,
   "id": "4dae3f41",
   "metadata": {},
   "outputs": [],
   "source": [
    "valid_dataset = MusicDataset(v_dataset.iloc[:,0], v_dataset.iloc[:, 1])\n",
    "train_dataset = MusicDataset(train_dataset.iloc[:,0], train_dataset.iloc[:, 1])"
   ]
  },
  {
   "cell_type": "code",
   "execution_count": 12,
   "id": "06368999",
   "metadata": {},
   "outputs": [],
   "source": [
    "class LSTMClassifier(nn.Module):\n",
    "    def __init__(self, input_dim, hidden_dim, layer_dim, output_dim, bidirectional=False):\n",
    "        super().__init__()\n",
    "        self.hidden_dim = hidden_dim\n",
    "        self.layer_dim = layer_dim\n",
    "        if bidirectional:\n",
    "            self.bidirectional = 2\n",
    "        else:\n",
    "            self.bidirectional = 1\n",
    "        self.lstm = nn.LSTM(input_size=input_dim, hidden_size=hidden_dim, num_layers=layer_dim,bidirectional=bidirectional, dropout=0.3)\n",
    "        self.fc = nn.Linear(hidden_dim, output_dim).float()\n",
    "        \n",
    "    def init_hidden(self, batch_size):\n",
    "        hidden = torch.zeros(self.layer_dim * self.bidirectional, batch_size, self.hidden_dim)\n",
    "        cell = torch.zeros(self.layer_dim * self.bidirectional, batch_size, self.hidden_dim)\n",
    "        return hidden, cell\n",
    "    \n",
    "    def forward(self, x ,x_len, hidden):\n",
    "        x_packed = pack_padded_sequence(x, x_len, batch_first=False, enforce_sorted=False)\n",
    "        all_outputs, hidden = self.lstm(x_packed, hidden)\n",
    "        preds, pred_len = pad_packed_sequence(all_outputs, batch_first=False, padding_value=0)\n",
    "        x = self.fc(hidden[0][-1].float())\n",
    "        return x, hidden\n",
    "           \n",
    "        "
   ]
  },
  {
   "cell_type": "code",
   "execution_count": 14,
   "id": "29378c9c",
   "metadata": {},
   "outputs": [
    {
     "name": "stderr",
     "output_type": "stream",
     "text": [
      "/root/SSNE-Pawel/.venv/lib/python3.10/site-packages/torch/nn/modules/rnn.py:83: UserWarning: dropout option adds dropout after all but last recurrent layer, so non-zero dropout expects num_layers greater than 1, but got dropout=0.3 and num_layers=1\n",
      "  warnings.warn(\"dropout option adds dropout after all but last \"\n"
     ]
    },
    {
     "data": {
      "text/plain": [
       "LSTMClassifier(\n",
       "  (lstm): LSTM(1, 1028, dropout=0.3)\n",
       "  (fc): Linear(in_features=1028, out_features=5, bias=True)\n",
       ")"
      ]
     },
     "execution_count": 14,
     "metadata": {},
     "output_type": "execute_result"
    }
   ],
   "source": [
    "hidden_dim = 1028\n",
    "layer_dim = 1\n",
    "input_dim = 1\n",
    "out_dim = df[\"Author\"].nunique()\n",
    "biderectional = False\n",
    "model = LSTMClassifier(input_dim, hidden_dim, layer_dim, out_dim, biderectional)\n",
    "model.to(device)\n"
   ]
  },
  {
   "cell_type": "code",
   "execution_count": 15,
   "id": "5f8243b9",
   "metadata": {},
   "outputs": [],
   "source": [
    "weights = 1.0 / torch.from_numpy(df[\"Author\"].value_counts().values)\n",
    "weights = weights / weights.sum()  \n",
    "batch_size = 64\n",
    "optimizer = torch.optim.Adam(model.parameters(), lr=0.001, weight_decay = 0.001)\n",
    "scheduler = torch.optim.lr_scheduler.StepLR(optimizer, step_size=10, gamma=0.1)\n",
    "tested = torch.tensor([0.7, 2.2, 5.9, 2.3, 2.8])\n",
    "loss_fun = nn.CrossEntropyLoss(tested.to(device))"
   ]
  },
  {
   "cell_type": "code",
   "execution_count": 16,
   "id": "5d482a7e",
   "metadata": {},
   "outputs": [],
   "source": [
    "\n",
    "\n",
    "pad = -10000\n",
    "\n",
    "# Wyrównanie sekwencji w mini batch\n",
    "def pad_collate(batch, pad_value=pad):\n",
    "    xx, yy = zip(*batch)\n",
    "    x_lens = [len(x) if x.dim() > 0 else 0 for x in xx]\n",
    "    y_lens = [len(y) if y.dim() > 0 else 0 for y in yy]\n",
    "\n",
    "    xx = [x.unsqueeze(0) if x.dim() == 0 else x for x in xx]\n",
    "    yy = [y.unsqueeze(0) if y.dim() == 0 else y for y in yy]\n",
    "\n",
    "    xx_pad = pad_sequence(xx, batch_first=True, padding_value=pad_value)\n",
    "    yy_pad = pad_sequence(yy, batch_first=True, padding_value=pad_value)\n",
    "\n",
    "    return xx_pad, yy_pad, x_lens, y_lens"
   ]
  },
  {
   "cell_type": "code",
   "execution_count": 17,
   "id": "b4752f1d",
   "metadata": {},
   "outputs": [],
   "source": [
    "train_loader = DataLoader(train_dataset, batch_size, shuffle=True, collate_fn = pad_collate)\n",
    "valid_loader = DataLoader(valid_dataset, batch_size, shuffle=False, collate_fn = pad_collate)"
   ]
  },
  {
   "cell_type": "code",
   "execution_count": 18,
   "id": "1f5e5b30",
   "metadata": {},
   "outputs": [
    {
     "name": "stderr",
     "output_type": "stream",
     "text": [
      " 88%|████████▊ | 88/100 [09:40<01:19,  6.60s/it, Epoch=88, Loss in train=21.8, Loss in validation=9.14]\n"
     ]
    },
    {
     "ename": "KeyboardInterrupt",
     "evalue": "",
     "output_type": "error",
     "traceback": [
      "\u001b[0;31m---------------------------------------------------------------------------\u001b[0m",
      "\u001b[0;31mKeyboardInterrupt\u001b[0m                         Traceback (most recent call last)",
      "Cell \u001b[0;32mIn[18], line 19\u001b[0m\n\u001b[1;32m     16\u001b[0m hidden, state \u001b[38;5;241m=\u001b[39m model\u001b[38;5;241m.\u001b[39minit_hidden(x\u001b[38;5;241m.\u001b[39msize(\u001b[38;5;241m1\u001b[39m))\n\u001b[1;32m     17\u001b[0m hidden, state \u001b[38;5;241m=\u001b[39m hidden\u001b[38;5;241m.\u001b[39mto(device), state\u001b[38;5;241m.\u001b[39mto(device)\n\u001b[0;32m---> 19\u001b[0m preds, _ \u001b[38;5;241m=\u001b[39m \u001b[43mmodel\u001b[49m\u001b[43m(\u001b[49m\u001b[43mx\u001b[49m\u001b[43m,\u001b[49m\u001b[43mx_len\u001b[49m\u001b[43m,\u001b[49m\u001b[43m \u001b[49m\u001b[43m(\u001b[49m\u001b[43mhidden\u001b[49m\u001b[43m,\u001b[49m\u001b[43m \u001b[49m\u001b[43mstate\u001b[49m\u001b[43m)\u001b[49m\u001b[43m)\u001b[49m \n\u001b[1;32m     20\u001b[0m preds \u001b[38;5;241m=\u001b[39m preds\u001b[38;5;241m.\u001b[39msqueeze(\u001b[38;5;241m1\u001b[39m)\n\u001b[1;32m     21\u001b[0m loss \u001b[38;5;241m=\u001b[39m loss_fun(preds, targets)\n",
      "File \u001b[0;32m~/SSNE-Pawel/.venv/lib/python3.10/site-packages/torch/nn/modules/module.py:1511\u001b[0m, in \u001b[0;36mModule._wrapped_call_impl\u001b[0;34m(self, *args, **kwargs)\u001b[0m\n\u001b[1;32m   1509\u001b[0m     \u001b[38;5;28;01mreturn\u001b[39;00m \u001b[38;5;28mself\u001b[39m\u001b[38;5;241m.\u001b[39m_compiled_call_impl(\u001b[38;5;241m*\u001b[39margs, \u001b[38;5;241m*\u001b[39m\u001b[38;5;241m*\u001b[39mkwargs)  \u001b[38;5;66;03m# type: ignore[misc]\u001b[39;00m\n\u001b[1;32m   1510\u001b[0m \u001b[38;5;28;01melse\u001b[39;00m:\n\u001b[0;32m-> 1511\u001b[0m     \u001b[38;5;28;01mreturn\u001b[39;00m \u001b[38;5;28;43mself\u001b[39;49m\u001b[38;5;241;43m.\u001b[39;49m\u001b[43m_call_impl\u001b[49m\u001b[43m(\u001b[49m\u001b[38;5;241;43m*\u001b[39;49m\u001b[43margs\u001b[49m\u001b[43m,\u001b[49m\u001b[43m \u001b[49m\u001b[38;5;241;43m*\u001b[39;49m\u001b[38;5;241;43m*\u001b[39;49m\u001b[43mkwargs\u001b[49m\u001b[43m)\u001b[49m\n",
      "File \u001b[0;32m~/SSNE-Pawel/.venv/lib/python3.10/site-packages/torch/nn/modules/module.py:1520\u001b[0m, in \u001b[0;36mModule._call_impl\u001b[0;34m(self, *args, **kwargs)\u001b[0m\n\u001b[1;32m   1515\u001b[0m \u001b[38;5;66;03m# If we don't have any hooks, we want to skip the rest of the logic in\u001b[39;00m\n\u001b[1;32m   1516\u001b[0m \u001b[38;5;66;03m# this function, and just call forward.\u001b[39;00m\n\u001b[1;32m   1517\u001b[0m \u001b[38;5;28;01mif\u001b[39;00m \u001b[38;5;129;01mnot\u001b[39;00m (\u001b[38;5;28mself\u001b[39m\u001b[38;5;241m.\u001b[39m_backward_hooks \u001b[38;5;129;01mor\u001b[39;00m \u001b[38;5;28mself\u001b[39m\u001b[38;5;241m.\u001b[39m_backward_pre_hooks \u001b[38;5;129;01mor\u001b[39;00m \u001b[38;5;28mself\u001b[39m\u001b[38;5;241m.\u001b[39m_forward_hooks \u001b[38;5;129;01mor\u001b[39;00m \u001b[38;5;28mself\u001b[39m\u001b[38;5;241m.\u001b[39m_forward_pre_hooks\n\u001b[1;32m   1518\u001b[0m         \u001b[38;5;129;01mor\u001b[39;00m _global_backward_pre_hooks \u001b[38;5;129;01mor\u001b[39;00m _global_backward_hooks\n\u001b[1;32m   1519\u001b[0m         \u001b[38;5;129;01mor\u001b[39;00m _global_forward_hooks \u001b[38;5;129;01mor\u001b[39;00m _global_forward_pre_hooks):\n\u001b[0;32m-> 1520\u001b[0m     \u001b[38;5;28;01mreturn\u001b[39;00m \u001b[43mforward_call\u001b[49m\u001b[43m(\u001b[49m\u001b[38;5;241;43m*\u001b[39;49m\u001b[43margs\u001b[49m\u001b[43m,\u001b[49m\u001b[43m \u001b[49m\u001b[38;5;241;43m*\u001b[39;49m\u001b[38;5;241;43m*\u001b[39;49m\u001b[43mkwargs\u001b[49m\u001b[43m)\u001b[49m\n\u001b[1;32m   1522\u001b[0m \u001b[38;5;28;01mtry\u001b[39;00m:\n\u001b[1;32m   1523\u001b[0m     result \u001b[38;5;241m=\u001b[39m \u001b[38;5;28;01mNone\u001b[39;00m\n",
      "Cell \u001b[0;32mIn[13], line 20\u001b[0m, in \u001b[0;36mLSTMClassifier.forward\u001b[0;34m(self, x, x_len, hidden)\u001b[0m\n\u001b[1;32m     18\u001b[0m \u001b[38;5;28;01mdef\u001b[39;00m \u001b[38;5;21mforward\u001b[39m(\u001b[38;5;28mself\u001b[39m, x ,x_len, hidden):\n\u001b[1;32m     19\u001b[0m     x_packed \u001b[38;5;241m=\u001b[39m pack_padded_sequence(x, x_len, batch_first\u001b[38;5;241m=\u001b[39m\u001b[38;5;28;01mFalse\u001b[39;00m, enforce_sorted\u001b[38;5;241m=\u001b[39m\u001b[38;5;28;01mFalse\u001b[39;00m)\n\u001b[0;32m---> 20\u001b[0m     all_outputs, hidden \u001b[38;5;241m=\u001b[39m \u001b[38;5;28;43mself\u001b[39;49m\u001b[38;5;241;43m.\u001b[39;49m\u001b[43mlstm\u001b[49m\u001b[43m(\u001b[49m\u001b[43mx_packed\u001b[49m\u001b[43m,\u001b[49m\u001b[43m \u001b[49m\u001b[43mhidden\u001b[49m\u001b[43m)\u001b[49m\n\u001b[1;32m     21\u001b[0m     preds, pred_len \u001b[38;5;241m=\u001b[39m pad_packed_sequence(all_outputs, batch_first\u001b[38;5;241m=\u001b[39m\u001b[38;5;28;01mFalse\u001b[39;00m, padding_value\u001b[38;5;241m=\u001b[39m\u001b[38;5;241m0\u001b[39m)\n\u001b[1;32m     22\u001b[0m     x \u001b[38;5;241m=\u001b[39m \u001b[38;5;28mself\u001b[39m\u001b[38;5;241m.\u001b[39mfc(hidden[\u001b[38;5;241m0\u001b[39m][\u001b[38;5;241m-\u001b[39m\u001b[38;5;241m1\u001b[39m]\u001b[38;5;241m.\u001b[39mfloat())\n",
      "File \u001b[0;32m~/SSNE-Pawel/.venv/lib/python3.10/site-packages/torch/nn/modules/module.py:1511\u001b[0m, in \u001b[0;36mModule._wrapped_call_impl\u001b[0;34m(self, *args, **kwargs)\u001b[0m\n\u001b[1;32m   1509\u001b[0m     \u001b[38;5;28;01mreturn\u001b[39;00m \u001b[38;5;28mself\u001b[39m\u001b[38;5;241m.\u001b[39m_compiled_call_impl(\u001b[38;5;241m*\u001b[39margs, \u001b[38;5;241m*\u001b[39m\u001b[38;5;241m*\u001b[39mkwargs)  \u001b[38;5;66;03m# type: ignore[misc]\u001b[39;00m\n\u001b[1;32m   1510\u001b[0m \u001b[38;5;28;01melse\u001b[39;00m:\n\u001b[0;32m-> 1511\u001b[0m     \u001b[38;5;28;01mreturn\u001b[39;00m \u001b[38;5;28;43mself\u001b[39;49m\u001b[38;5;241;43m.\u001b[39;49m\u001b[43m_call_impl\u001b[49m\u001b[43m(\u001b[49m\u001b[38;5;241;43m*\u001b[39;49m\u001b[43margs\u001b[49m\u001b[43m,\u001b[49m\u001b[43m \u001b[49m\u001b[38;5;241;43m*\u001b[39;49m\u001b[38;5;241;43m*\u001b[39;49m\u001b[43mkwargs\u001b[49m\u001b[43m)\u001b[49m\n",
      "File \u001b[0;32m~/SSNE-Pawel/.venv/lib/python3.10/site-packages/torch/nn/modules/module.py:1520\u001b[0m, in \u001b[0;36mModule._call_impl\u001b[0;34m(self, *args, **kwargs)\u001b[0m\n\u001b[1;32m   1515\u001b[0m \u001b[38;5;66;03m# If we don't have any hooks, we want to skip the rest of the logic in\u001b[39;00m\n\u001b[1;32m   1516\u001b[0m \u001b[38;5;66;03m# this function, and just call forward.\u001b[39;00m\n\u001b[1;32m   1517\u001b[0m \u001b[38;5;28;01mif\u001b[39;00m \u001b[38;5;129;01mnot\u001b[39;00m (\u001b[38;5;28mself\u001b[39m\u001b[38;5;241m.\u001b[39m_backward_hooks \u001b[38;5;129;01mor\u001b[39;00m \u001b[38;5;28mself\u001b[39m\u001b[38;5;241m.\u001b[39m_backward_pre_hooks \u001b[38;5;129;01mor\u001b[39;00m \u001b[38;5;28mself\u001b[39m\u001b[38;5;241m.\u001b[39m_forward_hooks \u001b[38;5;129;01mor\u001b[39;00m \u001b[38;5;28mself\u001b[39m\u001b[38;5;241m.\u001b[39m_forward_pre_hooks\n\u001b[1;32m   1518\u001b[0m         \u001b[38;5;129;01mor\u001b[39;00m _global_backward_pre_hooks \u001b[38;5;129;01mor\u001b[39;00m _global_backward_hooks\n\u001b[1;32m   1519\u001b[0m         \u001b[38;5;129;01mor\u001b[39;00m _global_forward_hooks \u001b[38;5;129;01mor\u001b[39;00m _global_forward_pre_hooks):\n\u001b[0;32m-> 1520\u001b[0m     \u001b[38;5;28;01mreturn\u001b[39;00m \u001b[43mforward_call\u001b[49m\u001b[43m(\u001b[49m\u001b[38;5;241;43m*\u001b[39;49m\u001b[43margs\u001b[49m\u001b[43m,\u001b[49m\u001b[43m \u001b[49m\u001b[38;5;241;43m*\u001b[39;49m\u001b[38;5;241;43m*\u001b[39;49m\u001b[43mkwargs\u001b[49m\u001b[43m)\u001b[49m\n\u001b[1;32m   1522\u001b[0m \u001b[38;5;28;01mtry\u001b[39;00m:\n\u001b[1;32m   1523\u001b[0m     result \u001b[38;5;241m=\u001b[39m \u001b[38;5;28;01mNone\u001b[39;00m\n",
      "File \u001b[0;32m~/SSNE-Pawel/.venv/lib/python3.10/site-packages/torch/nn/modules/rnn.py:881\u001b[0m, in \u001b[0;36mLSTM.forward\u001b[0;34m(self, input, hx)\u001b[0m\n\u001b[1;32m    878\u001b[0m     result \u001b[38;5;241m=\u001b[39m _VF\u001b[38;5;241m.\u001b[39mlstm(\u001b[38;5;28minput\u001b[39m, hx, \u001b[38;5;28mself\u001b[39m\u001b[38;5;241m.\u001b[39m_flat_weights, \u001b[38;5;28mself\u001b[39m\u001b[38;5;241m.\u001b[39mbias, \u001b[38;5;28mself\u001b[39m\u001b[38;5;241m.\u001b[39mnum_layers,\n\u001b[1;32m    879\u001b[0m                       \u001b[38;5;28mself\u001b[39m\u001b[38;5;241m.\u001b[39mdropout, \u001b[38;5;28mself\u001b[39m\u001b[38;5;241m.\u001b[39mtraining, \u001b[38;5;28mself\u001b[39m\u001b[38;5;241m.\u001b[39mbidirectional, \u001b[38;5;28mself\u001b[39m\u001b[38;5;241m.\u001b[39mbatch_first)\n\u001b[1;32m    880\u001b[0m \u001b[38;5;28;01melse\u001b[39;00m:\n\u001b[0;32m--> 881\u001b[0m     result \u001b[38;5;241m=\u001b[39m \u001b[43m_VF\u001b[49m\u001b[38;5;241;43m.\u001b[39;49m\u001b[43mlstm\u001b[49m\u001b[43m(\u001b[49m\u001b[38;5;28;43minput\u001b[39;49m\u001b[43m,\u001b[49m\u001b[43m \u001b[49m\u001b[43mbatch_sizes\u001b[49m\u001b[43m,\u001b[49m\u001b[43m \u001b[49m\u001b[43mhx\u001b[49m\u001b[43m,\u001b[49m\u001b[43m \u001b[49m\u001b[38;5;28;43mself\u001b[39;49m\u001b[38;5;241;43m.\u001b[39;49m\u001b[43m_flat_weights\u001b[49m\u001b[43m,\u001b[49m\u001b[43m \u001b[49m\u001b[38;5;28;43mself\u001b[39;49m\u001b[38;5;241;43m.\u001b[39;49m\u001b[43mbias\u001b[49m\u001b[43m,\u001b[49m\n\u001b[1;32m    882\u001b[0m \u001b[43m                      \u001b[49m\u001b[38;5;28;43mself\u001b[39;49m\u001b[38;5;241;43m.\u001b[39;49m\u001b[43mnum_layers\u001b[49m\u001b[43m,\u001b[49m\u001b[43m \u001b[49m\u001b[38;5;28;43mself\u001b[39;49m\u001b[38;5;241;43m.\u001b[39;49m\u001b[43mdropout\u001b[49m\u001b[43m,\u001b[49m\u001b[43m \u001b[49m\u001b[38;5;28;43mself\u001b[39;49m\u001b[38;5;241;43m.\u001b[39;49m\u001b[43mtraining\u001b[49m\u001b[43m,\u001b[49m\u001b[43m \u001b[49m\u001b[38;5;28;43mself\u001b[39;49m\u001b[38;5;241;43m.\u001b[39;49m\u001b[43mbidirectional\u001b[49m\u001b[43m)\u001b[49m\n\u001b[1;32m    883\u001b[0m output \u001b[38;5;241m=\u001b[39m result[\u001b[38;5;241m0\u001b[39m]\n\u001b[1;32m    884\u001b[0m hidden \u001b[38;5;241m=\u001b[39m result[\u001b[38;5;241m1\u001b[39m:]\n",
      "\u001b[0;31mKeyboardInterrupt\u001b[0m: "
     ]
    }
   ],
   "source": [
    "EPOCHS_NUMBER = 100\n",
    "tqdm_progress = tqdm(range(EPOCHS_NUMBER))\n",
    "batch_num = 0\n",
    "EPOCHS_NUMBER = 300\n",
    "train_losses = []\n",
    "val_losses = []\n",
    "for epoch in tqdm_progress:\n",
    "    train_loss = 0\n",
    "    model.train()\n",
    "    for x, targets, x_len, target_len in train_loader:\n",
    "        optimizer.zero_grad()\n",
    "        val_loss = 0\n",
    "        x = x.to(device).unsqueeze(2)\n",
    "        x = torch.transpose(x, 0, 1)\n",
    "        targets = targets.to(device).squeeze(1)\n",
    "        hidden, state = model.init_hidden(x.size(1))\n",
    "        hidden, state = hidden.to(device), state.to(device)\n",
    "    \n",
    "        preds, _ = model(x,x_len, (hidden, state)) \n",
    "        preds = preds.squeeze(1)\n",
    "        loss = loss_fun(preds, targets)\n",
    "        loss.backward()\n",
    "        optimizer.step()\n",
    "        train_loss += loss.item()\n",
    "    train_losses.append(train_loss)\n",
    "    model.eval()\n",
    "    with torch.no_grad():\n",
    "        for x_val, targets_val, x_len_val, target_len_val in valid_loader:\n",
    "            x_val = x_val.to(device).unsqueeze(2)\n",
    "            x_val = torch.transpose(x_val, 0, 1)\n",
    "            targets_val = targets_val.to(device).squeeze(1)\n",
    "            hidden_val, state_val = model.init_hidden(x_val.size(1))\n",
    "            hidden_val, state_val = hidden_val.to(device), state_val.to(device)\n",
    "\n",
    "            preds_val, _ = model(x_val, x_len_val, (hidden_val, state_val))\n",
    "            preds_val = preds_val.squeeze(1)\n",
    "            loss_val = loss_fun(preds_val, targets_val)\n",
    "            val_loss += loss_val.item()\n",
    "    scheduler.step()\n",
    "    val_losses.append(val_loss)\n",
    "    tqdm_progress.set_postfix(\n",
    "        {\n",
    "            \"Epoch\": epoch + 1,\n",
    "            \"Loss in train\": train_loss,\n",
    "            \"Loss in validation\": val_loss\n",
    "        }\n",
    "    )"
   ]
  },
  {
   "cell_type": "code",
   "execution_count": null,
   "id": "8494aaac",
   "metadata": {},
   "outputs": [
    {
     "data": {
      "image/png": "[encoded data removed]",
      "text/plain": [
       "<Figure size 1000x500 with 1 Axes>"
      ]
     },
     "metadata": {},
     "output_type": "display_data"
    }
   ],
   "source": [
    "plt.figure(figsize=(10, 5))\n",
    "plt.plot(train_losses, label='Train Loss')\n",
    "plt.plot(val_losses, label='Validation Loss')\n",
    "plt.xlabel('Epochs')\n",
    "plt.ylabel('Loss')\n",
    "plt.legend()\n",
    "plt.show()"
   ]
  },
  {
   "cell_type": "code",
   "execution_count": null,
   "id": "257a268f",
   "metadata": {},
   "outputs": [],
   "source": [
    "labels_train, labels_val = torch.tensor([], device=device), torch.tensor([], device=device)\n",
    "predicted_train, predicted_val = torch.tensor([], device=device), torch.tensor([], device=device)\n",
    "model.eval()\n",
    "with torch.no_grad():\n",
    "    for x, targets, x_len, target_len in train_loader:\n",
    "        x = torch.transpose(x, 0, 1)\n",
    "        x = x.to(device).unsqueeze(2)\n",
    "        targets = targets.to(device).squeeze(1)\n",
    "        hidden, state = model.init_hidden(x.size(1))\n",
    "        hidden, state = hidden.to(device), state.to(device)\n",
    "        predicts_train, _ = model(x,x_len, (hidden, state)) \n",
    "        predicts_train = predicts_train.squeeze(1)\n",
    "        predicts_train_argmax = torch.argmax(predicts_train, dim=1)\n",
    "        labels_train = torch.cat((labels_train, targets))\n",
    "        predicted_train = torch.cat((predicted_train, predicts_train_argmax))\n",
    "    for x, targets, x_len, target_len in valid_loader:\n",
    "        x = torch.transpose(x, 0, 1)\n",
    "        x = x.to(device).unsqueeze(2)\n",
    "        targets = targets.to(device).squeeze(1)\n",
    "        hidden, state = model.init_hidden(x.size(1))\n",
    "        hidden, state = hidden.to(device), state.to(device)\n",
    "        predicts_val, _ = model(x,x_len, (hidden, state)) \n",
    "        predicts_val = predicts_val.squeeze(1)\n",
    "        predicts_val_argmax = torch.argmax(predicts_val, dim=1)\n",
    "        labels_val = torch.cat((labels_val, targets))\n",
    "        predicted_val = torch.cat((predicted_val, predicts_val_argmax))"
   ]
  },
  {
   "cell_type": "code",
   "execution_count": null,
   "id": "5b6eefe4",
   "metadata": {},
   "outputs": [],
   "source": [
    "labels_train = labels_train.cpu()\n",
    "predicted_train = predicted_train.cpu()\n",
    "labels_val = labels_val.cpu()\n",
    "predicted_val = predicted_val.cpu()\n"
   ]
  },
  {
   "cell_type": "code",
   "execution_count": null,
   "id": "ce94a088",
   "metadata": {},
   "outputs": [
    {
     "data": {
      "image/png": "[encoded data removed]",
      "text/plain": [
       "<Figure size 640x480 with 2 Axes>"
      ]
     },
     "metadata": {},
     "output_type": "display_data"
    }
   ],
   "source": [
    "confusion_matrix_train = confusion_matrix(labels_train , predicted_train)\n",
    "ConfusionMatrixDisplay(confusion_matrix_train).plot()\n",
    "plt.show()"
   ]
  },
  {
   "cell_type": "code",
   "execution_count": null,
   "id": "58e206c8",
   "metadata": {},
   "outputs": [
    {
     "data": {
      "text/plain": [
       "0.7911527009783071"
      ]
     },
     "execution_count": 58,
     "metadata": {},
     "output_type": "execute_result"
    }
   ],
   "source": [
    "f1_score(labels_train, predicted_train, average='micro')"
   ]
  },
  {
   "cell_type": "code",
   "execution_count": null,
   "id": "d3f7e61a",
   "metadata": {},
   "outputs": [],
   "source": [
    "mca_eval = MulticlassAccuracy(num_classes=5, average=None)"
   ]
  },
  {
   "cell_type": "code",
   "execution_count": null,
   "id": "a993f1f8",
   "metadata": {},
   "outputs": [
    {
     "data": {
      "text/plain": [
       "tensor([0.7781, 0.7766, 0.8504, 0.7755, 0.8995])"
      ]
     },
     "execution_count": 60,
     "metadata": {},
     "output_type": "execute_result"
    }
   ],
   "source": [
    "mca_eval(predicted_train, labels_train)"
   ]
  },
  {
   "cell_type": "code",
   "execution_count": null,
   "id": "70a85822",
   "metadata": {},
   "outputs": [
    {
     "data": {
      "text/plain": [
       "0.75"
      ]
     },
     "execution_count": 61,
     "metadata": {},
     "output_type": "execute_result"
    }
   ],
   "source": [
    "f1_score(labels_val, predicted_val, average='micro')"
   ]
  },
  {
   "cell_type": "code",
   "execution_count": null,
   "id": "648426a7",
   "metadata": {},
   "outputs": [
    {
     "data": {
      "text/plain": [
       "tensor([0.7922, 0.6786, 0.6296, 0.7245, 0.7021])"
      ]
     },
     "execution_count": 62,
     "metadata": {},
     "output_type": "execute_result"
    }
   ],
   "source": [
    "mca_eval(predicted_val, labels_val)"
   ]
  },
  {
   "cell_type": "code",
   "execution_count": null,
   "id": "855da310",
   "metadata": {},
   "outputs": [
    {
     "data": {
      "image/png": "[encoded data removed]",
      "text/plain": [
       "<Figure size 640x480 with 2 Axes>"
      ]
     },
     "metadata": {},
     "output_type": "display_data"
    }
   ],
   "source": [
    "confusion_matrix_val = confusion_matrix(labels_val , predicted_val)\n",
    "ConfusionMatrixDisplay(confusion_matrix_val).plot()\n",
    "plt.show()"
   ]
  },
  {
   "cell_type": "code",
   "execution_count": 13,
   "id": "4569cec9",
   "metadata": {},
   "outputs": [],
   "source": [
    "with open(\"../data/test_no_target.pkl\", \"rb\") as f:\n",
    "    test_data = pickle.load(f)"
   ]
  },
  {
   "cell_type": "code",
   "execution_count": 14,
   "id": "c5917e07",
   "metadata": {},
   "outputs": [],
   "source": [
    "class TestDataset(Dataset):\n",
    "    def __init__(self, X):\n",
    "        self.X = [torch.tensor(x, dtype=torch.float32) for x in X]\n",
    "\n",
    "    def __getitem__(self, idx):\n",
    "        return self.X[idx]\n",
    "\n",
    "    def __len__(self):\n",
    "        return len(self.X)"
   ]
  },
  {
   "cell_type": "code",
   "execution_count": 15,
   "id": "ccf04db3",
   "metadata": {},
   "outputs": [],
   "source": [
    "test_df = pd.DataFrame({'Sequence': test_data})"
   ]
  },
  {
   "cell_type": "code",
   "execution_count": 16,
   "id": "f624489b",
   "metadata": {},
   "outputs": [],
   "source": [
    "test_dataset = TestDataset(test_df[\"Sequence\"].values)"
   ]
  },
  {
   "cell_type": "code",
   "execution_count": 17,
   "id": "05b3ebb2",
   "metadata": {},
   "outputs": [],
   "source": [
    "pad = -10000\n",
    "\n",
    "# Wyrównanie sekwencji w mini batch\n",
    "def test_pad_collate(batch, pad_value=pad):\n",
    "    x_lens = [len(x) if isinstance(x, torch.Tensor) and x.dim() > 0 else 0 for x in batch]\n",
    "    xx = [x.unsqueeze(0) if isinstance(x, torch.Tensor) and x.dim() == 0 else x for x in batch]\n",
    "    xx_pad = pad_sequence(xx, batch_first=True, padding_value=pad_value)\n",
    "    return xx_pad, x_lens"
   ]
  },
  {
   "cell_type": "code",
   "execution_count": 18,
   "id": "424cfba9",
   "metadata": {},
   "outputs": [],
   "source": [
    "batch_size = 64\n",
    "test_loader = DataLoader(test_dataset, batch_size, shuffle=False, collate_fn = test_pad_collate)\n"
   ]
  },
  {
   "cell_type": "code",
   "execution_count": 19,
   "id": "3edc71f5",
   "metadata": {},
   "outputs": [
    {
     "name": "stderr",
     "output_type": "stream",
     "text": [
      "/root/SSNE-Pawel/.venv/lib/python3.10/site-packages/torch/nn/modules/rnn.py:83: UserWarning: dropout option adds dropout after all but last recurrent layer, so non-zero dropout expects num_layers greater than 1, but got dropout=0.3 and num_layers=1\n",
      "  warnings.warn(\"dropout option adds dropout after all but last \"\n"
     ]
    },
    {
     "data": {
      "text/plain": [
       "<All keys matched successfully>"
      ]
     },
     "execution_count": 19,
     "metadata": {},
     "output_type": "execute_result"
    }
   ],
   "source": [
    "hidden_dim = 1028\n",
    "layer_dim = 1\n",
    "input_dim = 1\n",
    "out_dim = df[\"Author\"].nunique()\n",
    "biderectional = False\n",
    "model = LSTMClassifier(input_dim, hidden_dim, layer_dim, out_dim, biderectional)\n",
    "model.to(device)\n",
    "model.load_state_dict(torch.load('../models/model_best.pth'))"
   ]
  },
  {
   "cell_type": "code",
   "execution_count": 20,
   "id": "f29fa0e5",
   "metadata": {},
   "outputs": [],
   "source": [
    "model.eval()\n",
    "predicted_test = torch.tensor([], device=device)\n",
    "with torch.no_grad():\n",
    "    for x, x_lens in test_loader:\n",
    "        x = torch.transpose(x, 0, 1)\n",
    "        x = x.to(device).unsqueeze(2)\n",
    "        hidden, state = model.init_hidden(x.size(1))\n",
    "        hidden, state = hidden.to(device), state.to(device)\n",
    "        predicts_test, _ = model(x,x_lens, (hidden, state)) \n",
    "        predicts_test = predicts_test.squeeze(1)\n",
    "        predicts_test_argmax = torch.argmax(predicts_test, dim=1)\n",
    "        predicted_test = torch.cat((predicted_test, predicts_test_argmax))"
   ]
  },
  {
   "cell_type": "code",
   "execution_count": 21,
   "id": "7a182967",
   "metadata": {},
   "outputs": [
    {
     "name": "stdout",
     "output_type": "stream",
     "text": [
      "tensor([2., 0., 1.,  ..., 4., 3., 3.], device='cuda:0')\n"
     ]
    }
   ],
   "source": [
    "print(predicted_test)"
   ]
  },
  {
   "cell_type": "code",
   "execution_count": 23,
   "id": "2b8cad4f",
   "metadata": {},
   "outputs": [],
   "source": [
    "df_final = pd.DataFrame(predicted_test.cpu().numpy(),dtype=int)\n",
    "df.to_csv('../results/output.csv', index=False)"
   ]
  },
  {
   "cell_type": "code",
   "execution_count": 24,
   "id": "5b75773d",
   "metadata": {},
   "outputs": [
    {
     "data": {
      "text/plain": [
       "0\n",
       "0    540\n",
       "3    193\n",
       "1    175\n",
       "4    105\n",
       "2     90\n",
       "Name: count, dtype: int64"
      ]
     },
     "execution_count": 24,
     "metadata": {},
     "output_type": "execute_result"
    }
   ],
   "source": [
    "df_final[0].value_counts()"
   ]
  },
  {
   "cell_type": "code",
   "execution_count": null,
   "id": "7d3290df",
   "metadata": {},
   "outputs": [],
   "source": []
  }
 ],
 "metadata": {
  "kernelspec": {
   "display_name": "Python 3",
   "language": "python",
   "name": "python3"
  },
  "language_info": {
   "codemirror_mode": {
    "name": "ipython",
    "version": 3
   },
   "file_extension": ".py",
   "mimetype": "text/x-python",
   "name": "python",
   "nbconvert_exporter": "python",
   "pygments_lexer": "ipython3",
   "version": "3.10.12"
  }
 },
 "nbformat": 4,
 "nbformat_minor": 5
}
